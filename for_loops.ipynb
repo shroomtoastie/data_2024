{
  "nbformat": 4,
  "nbformat_minor": 0,
  "metadata": {
    "colab": {
      "provenance": [],
      "authorship_tag": "ABX9TyNogeshfhUpZjfg86sP2Wfr"
    },
    "kernelspec": {
      "name": "python3",
      "display_name": "Python 3"
    },
    "language_info": {
      "name": "python"
    }
  },
  "cells": [
    {
      "cell_type": "markdown",
      "source": [
        "Loops:\n",
        "\n",
        "**Part 1:** The Basics of Looping\n",
        "\n",
        "**Objective:** Learn how to use a basic for loop.\n",
        "\n",
        "**Task:** King Arthur needs to count his knights before they start their journey. Write a simple for loop to print the names of Arthur’s knights one by one."
      ],
      "metadata": {
        "id": "qZBt_k5O3POh"
      }
    },
    {
      "cell_type": "code",
      "execution_count": null,
      "metadata": {
        "id": "KbBK_38Y2wvi"
      },
      "outputs": [],
      "source": [
        "knights = [\"Sir Lancelot\", \"Sir Galahad\", \"Sir Robin\", \"Sir Bedevere\"]\n",
        "\n",
        "# your loop here"
      ]
    },
    {
      "cell_type": "markdown",
      "source": [
        "**Expected output:**\n",
        "\n",
        "Sir Lancelot\n",
        "\n",
        "Sir Galahad\n",
        "\n",
        "Sir Robin\n",
        "\n",
        "Sir Bedevere"
      ],
      "metadata": {
        "id": "hEkCeDK735lV"
      }
    },
    {
      "cell_type": "markdown",
      "source": [
        "**Part 2:** Looping with Indices\n",
        "\n",
        "**Objective:** Use a `for` loop with `enumerate()` to print each knight's position in line.\n",
        "\n",
        "**Task:** The knights need to know their order in the line. Modify your `for` loop to print each knight's position along with their name."
      ],
      "metadata": {
        "id": "9IFoJsvT3pL8"
      }
    },
    {
      "cell_type": "code",
      "source": [
        "# your loop here"
      ],
      "metadata": {
        "id": "hUdvkImG31iG"
      },
      "execution_count": null,
      "outputs": []
    },
    {
      "cell_type": "markdown",
      "source": [
        "**Expected Output**\n",
        "\n",
        "1. Sir Lancelot\n",
        "2. Sir Galahad\n",
        "3. Sir Robin\n",
        "4. Sir Bedevere\n"
      ],
      "metadata": {
        "id": "cd37mok132KJ"
      }
    },
    {
      "cell_type": "markdown",
      "source": [
        "**Part 3:** Looping Through String Characters\n",
        "\n",
        "**Objective:** Use a `for` loop to iterate through characters in a string.\n",
        "\n",
        "**Task:** Sir Robin is composing a song about bravery (or lack thereof). Using a `for` loop, iterate through the string below to print each character one by one."
      ],
      "metadata": {
        "id": "M_WHDIcx4UNn"
      }
    },
    {
      "cell_type": "code",
      "source": [
        "song = \"Bravely bold Sir Robin rode forth from Camelot\"\n",
        "\n",
        "# your loop here\n"
      ],
      "metadata": {
        "id": "GqrQmpsh4fSm"
      },
      "execution_count": 2,
      "outputs": []
    },
    {
      "cell_type": "markdown",
      "source": [
        "**Expected Output**\n",
        "\n",
        "B\n",
        "\n",
        "r\n",
        "\n",
        "a\n",
        "\n",
        "..."
      ],
      "metadata": {
        "id": "lFXoNRKH4j1W"
      }
    },
    {
      "cell_type": "markdown",
      "source": [
        "**Part 4:** Filtering with Loops\n",
        "\n",
        "**Objective:** Use an `if` statement inside a `for` loop to filter results.\n",
        "\n",
        "**Task:** Not all the knights are brave enough for this journey. Using a `for` loop, print only the brave knights (those whose names contain the word \"Sir\")."
      ],
      "metadata": {
        "id": "gb5OJKTC49DN"
      }
    },
    {
      "cell_type": "code",
      "source": [
        "brave_knights = [\"Sir Lancelot\", \"Sir Galahad\", \"Black Knight\", \"Sir Robin\"]\n",
        "\n",
        "# your loop here"
      ],
      "metadata": {
        "id": "pXmiXOfA5NPu"
      },
      "execution_count": null,
      "outputs": []
    },
    {
      "cell_type": "markdown",
      "source": [
        "**Expected Output:**\n",
        "\n",
        "Sir Lancelot\n",
        "\n",
        "Sir Galahad\n",
        "\n",
        "Sir Robin"
      ],
      "metadata": {
        "id": "nXCKIySq5UGF"
      }
    },
    {
      "cell_type": "markdown",
      "source": [
        "**Part 5:** Looping with Range\n",
        "\n",
        "**Objective:** Use `range()` in a `for` loop.\n",
        "\n",
        "**Task:** The knights need to ride back and forth across the bridge 5 times to prove their bravery! Write a `for` loop using `range()` that repeats the action of crossing the bridge 5 times."
      ],
      "metadata": {
        "id": "m-pA-pDH5fv4"
      }
    },
    {
      "cell_type": "code",
      "source": [
        "# your code here"
      ],
      "metadata": {
        "id": "SU2YG1ec5Ycb"
      },
      "execution_count": null,
      "outputs": []
    },
    {
      "cell_type": "markdown",
      "source": [
        "**Expected Output:**\n",
        "\n",
        "Crossing the bridge!\n",
        "\n",
        "Crossing the bridge!\n",
        "\n",
        "Crossing the bridge!\n",
        "\n",
        "Crossing the bridge!\n",
        "\n",
        "Crossing the bridge!"
      ],
      "metadata": {
        "id": "S6W33xFH5pis"
      }
    },
    {
      "cell_type": "markdown",
      "source": [
        "**Part 6:** Nested Loops - The Knights’ Quest\n",
        "\n",
        "**Objective:** Learn how to use a nested `for` loop.\n",
        "\n",
        "**Task:** The knights need to gather supplies for their journey. They’ll search the fields, forests, and mountains for food and drink. Write a nested `for` loop that lets each knight search each location."
      ],
      "metadata": {
        "id": "9tLrz2va5vZm"
      }
    },
    {
      "cell_type": "code",
      "source": [
        "knights = [\"Sir Lancelot\", \"Sir Galahad\", \"Sir Robin\"]\n",
        "locations = [\"fields\", \"forests\", \"mountains\"]\n",
        "\n",
        "# your code here\n"
      ],
      "metadata": {
        "id": "XQF4Nb3756g_"
      },
      "execution_count": 4,
      "outputs": []
    },
    {
      "cell_type": "markdown",
      "source": [
        "**Expected Output**\n",
        "\n",
        "Sir Lancelot is searching the fields for supplies.\n",
        "\n",
        "Sir Lancelot is searching the forests for supplies.\n",
        "\n",
        "Sir Lancelot is searching the mountains for supplies.\n",
        "\n",
        "Sir Galahad is searching the fields for supplies.\n",
        "\n",
        "Sir Galahad is searching the forests for supplies.\n",
        "\n",
        "Sir Galahad is searching the mountains for supplies.\n",
        "\n",
        "Sir Robin is searching the fields for supplies.\n",
        "\n",
        "Sir Robin is searching the forests for supplies.\n",
        "\n",
        "Sir Robin is searching the mountains for supplies."
      ],
      "metadata": {
        "id": "xFWSneST5-YY"
      }
    },
    {
      "cell_type": "markdown",
      "source": [
        "**Bonus Challenge: **Looping with Conditional Logic\n",
        "\n",
        "**Objective:** Use conditional logic in `for` loops.\n",
        "\n",
        "**Task:** Not every knight will be able to cross the bridge. Only those with a bravery score of 8 or higher can cross. Write a loop that prints which knights successfully cross."
      ],
      "metadata": {
        "id": "mUm2W3kw6Lxp"
      }
    },
    {
      "cell_type": "code",
      "source": [
        "knights = {\n",
        "    \"Sir Lancelot\": 9,\n",
        "    \"Sir Galahad\": 7,\n",
        "    \"Sir Robin\": 8,\n",
        "    \"Sir Bedevere\": 5\n",
        "}\n",
        "\n",
        "# your code here"
      ],
      "metadata": {
        "id": "BDkb2Tju6XbV"
      },
      "execution_count": 10,
      "outputs": []
    },
    {
      "cell_type": "markdown",
      "source": [
        "Expected Output\n",
        "\n",
        "Sir Lancelot crosses the bridge!\n",
        "\n",
        "Sir Robin crosses the bridge!"
      ],
      "metadata": {
        "id": "s8PNZwO56uT6"
      }
    }
  ]
}