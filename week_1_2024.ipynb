{
 "cells": [
  {
   "cell_type": "markdown",
   "metadata": {
    "colab_type": "text",
    "id": "view-in-github"
   },
   "source": [
    "<a href=\"https://colab.research.google.com/github/dmorton714/data_2024/blob/main/week_1_2024.ipynb\" target=\"_parent\"><img src=\"https://colab.research.google.com/assets/colab-badge.svg\" alt=\"Open In Colab\"/></a>"
   ]
  },
  {
   "cell_type": "markdown",
   "metadata": {
    "id": "AgmRtInoS0VU"
   },
   "source": [
    "# Agenda week 1\n",
    "- Introductions\n",
    "- Questions\n",
    "- Overview of:\n",
    "    - packages\n",
    "    - variables\n",
    "    - data types\n",
    "    - conditionals\n",
    "\n",
    "\n",
    "---"
   ]
  },
  {
   "cell_type": "markdown",
   "metadata": {
    "id": "Xj2RVJDrUaEa"
   },
   "source": [
    "# Package Examples:\n",
    "\n",
    "#### **random – Random Numbers and Choices**\n",
    "\n",
    "- random is a built-in Python module that generates random numbers or selects random items from lists. It’s very useful for simulations and testing.\n",
    "\n",
    "#### **pandas – Data Manipulation**\n",
    "\n",
    "- pandas is a must-have library for working with structured data, such as spreadsheets, databases, and CSV files. It provides DataFrame objects for easy manipulation of tabular data."
   ]
  },
  {
   "cell_type": "code",
   "execution_count": null,
   "metadata": {
    "colab": {
     "base_uri": "https://localhost:8080/"
    },
    "id": "qkoYISz6x2l0",
    "outputId": "84cc695b-94d0-48a0-956d-9e705a848bf7"
   },
   "outputs": [
    {
     "name": "stdout",
     "output_type": "stream",
     "text": [
      "7\n",
      "date\n"
     ]
    }
   ],
   "source": [
    "import random\n",
    "\n",
    "# Generate a random number between 1 and 10\n",
    "random_number = random.randint(1, 10)\n",
    "print(random_number)\n",
    "\n",
    "# Select a random item from a list\n",
    "fruits = ['apple', 'banana', 'cherry', 'date']\n",
    "random_fruit = random.choice(fruits)\n",
    "print(random_fruit)"
   ]
  },
  {
   "cell_type": "code",
   "execution_count": 3,
   "metadata": {
    "colab": {
     "base_uri": "https://localhost:8080/"
    },
    "id": "ETphTxXwyCUf",
    "outputId": "7c7d2906-0225-4770-f79e-038d3beed364"
   },
   "outputs": [
    {
     "ename": "ModuleNotFoundError",
     "evalue": "No module named 'pandas'",
     "output_type": "error",
     "traceback": [
      "\u001b[1;31m---------------------------------------------------------------------------\u001b[0m",
      "\u001b[1;31mModuleNotFoundError\u001b[0m                       Traceback (most recent call last)",
      "Cell \u001b[1;32mIn[3], line 1\u001b[0m\n\u001b[1;32m----> 1\u001b[0m \u001b[38;5;28;01mimport\u001b[39;00m \u001b[38;5;21;01mpandas\u001b[39;00m \u001b[38;5;28;01mas\u001b[39;00m \u001b[38;5;21;01mpd\u001b[39;00m\n\u001b[0;32m      3\u001b[0m \u001b[38;5;66;03m# Creating a DataFrame\u001b[39;00m\n\u001b[0;32m      4\u001b[0m data \u001b[38;5;241m=\u001b[39m {\u001b[38;5;124m'\u001b[39m\u001b[38;5;124mName\u001b[39m\u001b[38;5;124m'\u001b[39m: [\u001b[38;5;124m'\u001b[39m\u001b[38;5;124mAlice\u001b[39m\u001b[38;5;124m'\u001b[39m, \u001b[38;5;124m'\u001b[39m\u001b[38;5;124mBob\u001b[39m\u001b[38;5;124m'\u001b[39m, \u001b[38;5;124m'\u001b[39m\u001b[38;5;124mCharlie\u001b[39m\u001b[38;5;124m'\u001b[39m], \u001b[38;5;124m'\u001b[39m\u001b[38;5;124mAge\u001b[39m\u001b[38;5;124m'\u001b[39m: [\u001b[38;5;241m25\u001b[39m, \u001b[38;5;241m30\u001b[39m, \u001b[38;5;241m35\u001b[39m]}\n",
      "\u001b[1;31mModuleNotFoundError\u001b[0m: No module named 'pandas'"
     ]
    }
   ],
   "source": [
    "import pandas as pd\n",
    "\n",
    "# Creating a DataFrame\n",
    "data = {'Name': ['Alice', 'Bob', 'Charlie'], 'Age': [25, 30, 35]}\n",
    "df = pd.DataFrame(data)\n",
    "\n",
    "# Display the DataFrame\n",
    "print(df)\n",
    "\n",
    "# Calculate the average age\n",
    "print(df['Age'].mean())"
   ]
  },
  {
   "cell_type": "markdown",
   "metadata": {
    "id": "hcDEstH_QuKO"
   },
   "source": [
    "# Variables and Data Types\n",
    "\n",
    "| Example\t| Data Type\t|\n",
    "| --- | ---|\n",
    "| x = \"Hello World\"\t| str |\n",
    "| x = 20\t| int |\n",
    "| x = 20.5 | float |\n",
    "| x = [\"apple\", \"banana\", \"cherry\"] | list |\n",
    "| x = (\"apple\", \"banana\", \"cherry\") | tuple |\n",
    "| x = range(6) | range |\n",
    "| x = {\"name\" : \"John\", \"age\" : 36} | dict |\n",
    "| x = True | bool |"
   ]
  },
  {
   "cell_type": "markdown",
   "metadata": {
    "id": "8t1842yQRjQE"
   },
   "source": [
    "1. Explore variables and how to assign them.\n",
    "1. Assign data types\n",
    "1. List appending vs inserting"
   ]
  },
  {
   "cell_type": "markdown",
   "metadata": {
    "id": "6LIyIgm-hZqZ"
   },
   "source": [
    "# What is a variable?\n",
    "Variables are containers for storing data values.\n",
    "\n",
    "https://www.w3schools.com/python/python_variables.asp\n",
    "\n",
    "Sounds easy enough right? I can't stress the importance of getting in the habit of using variables for well, almost everything. A lot of the magic of programming is in storing and reusing or processing values. Under the hood it is often variables that streamlines these processes."
   ]
  },
  {
   "cell_type": "code",
   "execution_count": null,
   "metadata": {
    "colab": {
     "base_uri": "https://localhost:8080/",
     "height": 37
    },
    "id": "EEaGKpohhxiM",
    "outputId": "3e9ff127-15d4-4c36-dfce-145e6a4f455f"
   },
   "outputs": [
    {
     "data": {
      "application/vnd.google.colaboratory.intrinsic+json": {
       "type": "string"
      },
      "text/plain": [
       "'This is a value stored in the box.'"
      ]
     },
     "execution_count": 6,
     "metadata": {},
     "output_type": "execute_result"
    }
   ],
   "source": [
    "# Example of how values are stored in variables\n",
    "\n",
    "variable_name = 'This is a value stored in the box.'\n",
    "\n",
    "# show difference in print and using the variable in notebooks\n",
    "# print(variable_name)\n",
    "variable_name"
   ]
  },
  {
   "cell_type": "code",
   "execution_count": null,
   "metadata": {
    "colab": {
     "base_uri": "https://localhost:8080/"
    },
    "id": "VVBOI_b7iVNN",
    "outputId": "a4d9a165-8c5a-4cf2-fc4b-b404b9f68e59"
   },
   "outputs": [
    {
     "data": {
      "text/plain": [
       "35"
      ]
     },
     "execution_count": 7,
     "metadata": {},
     "output_type": "execute_result"
    }
   ],
   "source": [
    "f = 5\n",
    "s = 7\n",
    "\n",
    "f * s"
   ]
  },
  {
   "cell_type": "markdown",
   "metadata": {
    "id": "JiSYv70Bimk-"
   },
   "source": [
    "# String\n",
    "A String is a data structure in Python Programming that represents a sequence of characters. It is an immutable data type, meaning that once you have created a string, you cannot change it. Python String are used widely in many different applications, such as storing and manipulating text data, representing names, addresses, and other types of data that can be represented as text.\n",
    "\n",
    "https://www.geeksforgeeks.org/python-string/\n",
    "\n",
    "A string in Python is created by putting a collection of characters within **quotation marks.**\n",
    "\n",
    "I'll give a couple of examples of things that are and are not strings.\n",
    "\n",
    "- 'This is a string' <--- Is a string\n",
    "\n",
    "- '1 Downing Street' <--- Also a string\n",
    "\n",
    "- '7/2/2019' <--- Indeed, a string\n",
    "\n",
    "- '@Pyth0n!uvr' <--- A very l33t string\n",
    "\n",
    "- 13 <--- Not a string\n",
    "\n",
    "- asdklgjsdag%*!$&1359018uthdskla <--- This is your cat walking across your keyboard, not a string\n",
    "\n",
    "- 'asdklgjsdag%*!$&1359018uthdskla' <--- This is your cat walking across your keyboard as a string"
   ]
  },
  {
   "cell_type": "code",
   "execution_count": 1,
   "metadata": {
    "id": "Kt1fQzuWjkFk"
   },
   "outputs": [],
   "source": [
    "#example of single and double quotes\n",
    "a = \"hello\"\n",
    "a = 'hello'\n",
    "how_to_address_apostrophe = \"I'm a string\""
   ]
  },
  {
   "cell_type": "markdown",
   "metadata": {
    "id": "Jl1Uuo_Oj0Ru"
   },
   "source": [
    "# Integer or Int\n",
    "Int, or integer, is a whole number, positive or negative, without decimals, of unlimited length.\n",
    "\n",
    "https://www.w3schools.com/python/python_numbers.asp\n",
    "\n",
    "This should be pretty self explanatory, and it is worth noting it is very common to use integers to do math. It is perfectly acceptable to use a Python interpreter as a calculator.\n",
    "\n",
    "I'll give a few examples\n",
    "\n",
    "- 47 <--- This is an int\n",
    "\n",
    "- 73829147 <--- Also an int\n",
    "\n",
    "- -481 <--- Once again, an int\n",
    "\n",
    "- 7/12/1998 <--- Not an int\n",
    "\n",
    "- 682.15 <--- Also not an int\n",
    "\n",
    "Floating point number or float\n",
    "Float, or \"floating point number\" is a number, positive or negative, containing one or more decimals.\n",
    "\n",
    "https://www.w3schools.com/python/python_numbers.asp\n",
    "\n",
    "So basically any number with a decimal point...this can and often does include .0. If you're doing math you can add an int to a float for example, and the return will be a float. You can not add an int or a float to a string. Interestingly you can multiply a string and an int, but not a float, try it!\n",
    "\n",
    "- 49267.126847 <--- Float\n",
    "\n",
    "- -426.7 <--- Another float\n",
    "\n",
    "- 12.0 <--- You guessed it, float\n",
    "\n",
    "- 512 <--- Not a float, an int\n",
    "\n",
    "- '671.143' <--- Not a float, this is a string\n",
    "\n"
   ]
  },
  {
   "cell_type": "markdown",
   "metadata": {
    "id": "c-tzEW_-lPqy"
   },
   "source": [
    "# Boolean or bool\n",
    "In programming you often need to know if an expression is True or False.\n",
    "\n",
    "You can evaluate any expression in Python, and get one of two answers, True or False.\n",
    "\n",
    "When you compare two values, the expression is evaluated and Python returns the Boolean answer\n",
    "\n",
    "https://www.w3schools.com/python/python_booleans.asp\n",
    "\n",
    "So a boolean is essentially True or False. Notice the upper case T and F here, these are important. true and false are not booleans. You will often use expressions like 12 > 5 (evaluates to True) or if 'string' == 'diff_string' (evaluates to False.)\n",
    "\n",
    "- True <--- Boolean\n",
    "\n",
    "- False <--- The only other possible boolean\n",
    "\n",
    "- true <--- Not a boolean\n",
    "\n",
    "- 12 > 5 <--- Will evaluate to a boolean, but this is the expression, not the boolean itself which is what Python returns when evaluating it\n",
    "\n",
    "Booleans are a super important concept when working with if/else logic, which we can talk about today, and when working with loops which we will talk about soon.\n",
    "\n"
   ]
  },
  {
   "cell_type": "markdown",
   "metadata": {
    "id": "qlx1N0vQlk9d"
   },
   "source": [
    "# Nonetype\n",
    "The NoneType object is a special type in Python that represents the absence of a value. In other words, NoneType is the type for the None object, which is an object that contains no value or defines a null value. It is used to indicate that a variable or expression does not have a value or has an undefined value. “None” basically means the absence of a value.\n",
    "\n",
    "https://www.geeksforgeeks.org/how-to-check-nonetype-in-python/\n",
    "\n",
    "This won't come up a lot and I don't plan to say a lot about it, however I did want to introduce that it exists. There is indeed a datatype associated with the absence of a value."
   ]
  },
  {
   "cell_type": "code",
   "execution_count": null,
   "metadata": {
    "colab": {
     "base_uri": "https://localhost:8080/"
    },
    "id": "9un6RODKRIeJ",
    "outputId": "73830a24-92a4-489f-86d7-0edfb6889619"
   },
   "outputs": [
    {
     "data": {
      "text/plain": [
       "int"
      ]
     },
     "execution_count": 9,
     "metadata": {},
     "output_type": "execute_result"
    }
   ],
   "source": [
    "# assign a number to \"a\"\n",
    "a = 30\n",
    "a\n",
    "# use the type() function to see what it was assigned\n",
    "type(a)"
   ]
  },
  {
   "cell_type": "code",
   "execution_count": null,
   "metadata": {
    "colab": {
     "base_uri": "https://localhost:8080/"
    },
    "id": "UMsjv594Dsy3",
    "outputId": "478246f3-6e82-4019-e1ab-5f0b99d9db64"
   },
   "outputs": [
    {
     "data": {
      "text/plain": [
       "float"
      ]
     },
     "execution_count": 10,
     "metadata": {},
     "output_type": "execute_result"
    }
   ],
   "source": [
    "# assign a as an float\n",
    "a = float(a)\n",
    "a\n",
    "# print the type\n",
    "type(a)"
   ]
  },
  {
   "cell_type": "markdown",
   "metadata": {
    "id": "C5ah5cbIWCni"
   },
   "source": [
    "Exploring lists"
   ]
  },
  {
   "cell_type": "code",
   "execution_count": null,
   "metadata": {
    "colab": {
     "base_uri": "https://localhost:8080/"
    },
    "id": "d9geneU1WA3L",
    "outputId": "367b8603-4199-49bb-8e6a-b5d0bcadef0f"
   },
   "outputs": [
    {
     "data": {
      "text/plain": [
       "[1, 2, 3, 4, 5, 6]"
      ]
     },
     "execution_count": 17,
     "metadata": {},
     "output_type": "execute_result"
    }
   ],
   "source": [
    "my_list = [1,2,3,4,5]\n",
    "\n",
    "# \"append\" a number to my_list\n",
    "my_list.append(6)\n",
    "\n",
    "# print the list\n",
    "my_list"
   ]
  },
  {
   "cell_type": "code",
   "execution_count": null,
   "metadata": {
    "colab": {
     "base_uri": "https://localhost:8080/"
    },
    "id": "Nm_aFuPvEZMT",
    "outputId": "cd924702-6e41-40d3-a68e-dfc0f79f3324"
   },
   "outputs": [
    {
     "data": {
      "text/plain": [
       "[1, 2, 10, 3, 4, 5, 6]"
      ]
     },
     "execution_count": 18,
     "metadata": {},
     "output_type": "execute_result"
    }
   ],
   "source": [
    "# \"insert\" a number into 3rd position\n",
    "my_list.insert(2, 10)\n",
    "\n",
    "# print the list\n",
    "my_list"
   ]
  },
  {
   "cell_type": "markdown",
   "metadata": {
    "id": "s-add0B0Qwvp"
   },
   "source": [
    "# Conditionals\n",
    "\n",
    "| Conditional | Example |\n",
    "| :--- | --- |\n",
    "|Equals: | a == b |\n",
    "|Not Equals: | a != b |\n",
    "|Less than: | a < b |\n",
    "|Less than or equal to: | a <= b |\n",
    "|Greater than: | a > b |\n",
    "|Greater than or equal to: | a >= b |\n",
    "| if Statement | if x > y: print(\"x is greater than y\") |\n",
    "\n",
    "These conditions can be used in several ways, most commonly in \"if statements\" and loops.\n",
    "\n",
    "An \"if statement\" is written by using the if keyword.\n",
    "\n",
    "Python relies on indentation (whitespace at the beginning of a line) to define scope in the code. Other programming languages often use curly-brackets for this purpose.\n",
    "\n",
    "https://www.w3schools.com/python/python_conditions.asp"
   ]
  },
  {
   "cell_type": "markdown",
   "metadata": {
    "id": "Khrb-c-iXcm8"
   },
   "source": [
    "- assign variables x and y\n",
    "- if greater than\n"
   ]
  },
  {
   "cell_type": "code",
   "execution_count": null,
   "metadata": {
    "id": "bZ7sNdsuRth4"
   },
   "outputs": [],
   "source": [
    "x = 3\n",
    "y = 7\n",
    "\n",
    "if x > y:\n",
    "    print(\"x is greater than y\")"
   ]
  },
  {
   "cell_type": "markdown",
   "metadata": {
    "id": "bTITtTFzYF9R"
   },
   "source": [
    "- if less than"
   ]
  },
  {
   "cell_type": "code",
   "execution_count": null,
   "metadata": {
    "colab": {
     "base_uri": "https://localhost:8080/"
    },
    "id": "q-IyKFKxR1vG",
    "outputId": "8b5fa204-35f4-43c6-efff-91c476a8da1f"
   },
   "outputs": [
    {
     "name": "stdout",
     "output_type": "stream",
     "text": [
      "x is less than y\n"
     ]
    }
   ],
   "source": [
    "if x < y:\n",
    "    print(\"x is less than y\")"
   ]
  },
  {
   "cell_type": "markdown",
   "metadata": {
    "id": "NPLm1cYcYIwg"
   },
   "source": [
    "- if equal to"
   ]
  },
  {
   "cell_type": "code",
   "execution_count": null,
   "metadata": {
    "id": "LYe_WTAvUiM4"
   },
   "outputs": [],
   "source": [
    "if x == y:\n",
    "    print(\"x is equal to y\")"
   ]
  },
  {
   "cell_type": "markdown",
   "metadata": {
    "id": "H4KQZA91EmUy"
   },
   "source": [
    "Please join all the \"if\" statements together using appropriate elif and else blocks to streamline the logic.\n",
    "\n",
    "Additionally, utilize f-strings to automatically populate variables in the print statements for clarity and efficiency.\n",
    "\n",
    "Make sure to include the necessary elif and else conditions as part of the logic flow."
   ]
  },
  {
   "cell_type": "code",
   "execution_count": null,
   "metadata": {
    "colab": {
     "base_uri": "https://localhost:8080/"
    },
    "id": "NpFYaj1JEksE",
    "outputId": "8372e91f-555f-43af-fc68-97c1fb300ccb"
   },
   "outputs": [
    {
     "name": "stdout",
     "output_type": "stream",
     "text": [
      "3 is less than 7\n"
     ]
    }
   ],
   "source": [
    "if x > y:\n",
    "    print(f\"{x} is greater than {y}\")\n",
    "elif x < y:\n",
    "    print(f\"{x} is less than {y}\")\n",
    "else:\n",
    "    print(f\"{x} is equal to {y}\")"
   ]
  },
  {
   "cell_type": "markdown",
   "metadata": {
    "id": "j_P5C-u_YKzt"
   },
   "source": [
    "### Add the above to a function.\n",
    "\n",
    "**What Are Functions in Python?**\n",
    "A function in Python is a reusable block of code that performs a specific task. Functions allow you to break your code into smaller, manageable, and reusable parts. You can pass data (parameters) into a function and receive data back (the return value).\n",
    "\n",
    "**Why Use Functions?**\n",
    "- Code Reusability: Write once, use many times.\n",
    "- Modularity: Break your program into smaller, manageable pieces.\n",
    "- Avoid Redundancy: Avoid duplicating code.\n",
    "- Improved Readability: Makes code easier to read and maintain.\n",
    "\n"
   ]
  },
  {
   "cell_type": "code",
   "execution_count": null,
   "metadata": {
    "id": "Wlwba8iLYPcu"
   },
   "outputs": [],
   "source": [
    "# Code from above for refrence\n",
    "# x = 3\n",
    "# y = 5\n",
    "\n",
    "# if x > y:\n",
    "#     print(f\"{x} is greater than {y}\")\n",
    "# elif x < y:\n",
    "#     print(f\"{x} is less than {y}\")\n",
    "# else:\n",
    "#     print(f\"{x} is equal to {y}\")\n",
    "\n",
    "# make function called compare take in args x and y\n",
    "\n",
    "def compare(x, y):\n",
    "    if x > y:\n",
    "        print(f\"{x} is greater than {y}\")\n",
    "    elif x < y:\n",
    "        print(f\"{x} is less than {y}\")\n",
    "    else:\n",
    "        print(f\"{x} is equal to {y}\")\n"
   ]
  },
  {
   "cell_type": "markdown",
   "metadata": {
    "id": "E6tPgMFrFqQd"
   },
   "source": [
    "Example to call the function"
   ]
  },
  {
   "cell_type": "code",
   "execution_count": null,
   "metadata": {
    "colab": {
     "base_uri": "https://localhost:8080/"
    },
    "id": "34n8K5KFFo8J",
    "outputId": "65a92b85-84ce-429e-8bc0-51498f438d8c"
   },
   "outputs": [
    {
     "name": "stdout",
     "output_type": "stream",
     "text": [
      "3 is less than 7\n"
     ]
    }
   ],
   "source": [
    "compare(x, y)"
   ]
  },
  {
   "cell_type": "markdown",
   "metadata": {
    "id": "1iGo4DbaFwyS"
   },
   "source": [
    "TO show off the power of a function. We can now feed and 2 variables into the function to run the compare logic."
   ]
  },
  {
   "cell_type": "code",
   "execution_count": null,
   "metadata": {
    "colab": {
     "base_uri": "https://localhost:8080/"
    },
    "id": "RdnPlLK6liMJ",
    "outputId": "49354320-a739-4b5b-f8be-7d972d4c2de7"
   },
   "outputs": [
    {
     "name": "stdout",
     "output_type": "stream",
     "text": [
      "6 is less than 9\n"
     ]
    }
   ],
   "source": [
    "a = 6\n",
    "b = 9\n",
    "\n",
    "compare(a, b)"
   ]
  },
  {
   "cell_type": "markdown",
   "metadata": {
    "id": "l8s2rIkNrhnW"
   },
   "source": [
    "Use the function to use an variable to show its reusability."
   ]
  },
  {
   "cell_type": "code",
   "execution_count": null,
   "metadata": {
    "colab": {
     "base_uri": "https://localhost:8080/"
    },
    "id": "xNA-RuCurgh9",
    "outputId": "e8f8f87a-cd31-4f23-b521-eea407dd6c7f"
   },
   "outputs": [
    {
     "name": "stdout",
     "output_type": "stream",
     "text": [
      "1 is less than 2\n"
     ]
    }
   ],
   "source": [
    "num = 1\n",
    "num2 = 2\n",
    "\n",
    "compare(num, num2)"
   ]
  },
  {
   "cell_type": "markdown",
   "metadata": {
    "id": "rVjFp4j9r_ed"
   },
   "source": [
    "# Paper Rock Scissors\n",
    "\n",
    "Below let's make a paper rock scissors game!!!\n"
   ]
  },
  {
   "cell_type": "code",
   "execution_count": null,
   "metadata": {
    "id": "EwkaSQ3ssKUm"
   },
   "outputs": [],
   "source": [
    "# Game code goes here!\n",
    "\n",
    "import random\n",
    "\n",
    "choices = [\"rock\", \"paper\", \"scissors\"]\n",
    "user = input(\"Choose rock, paper, or scissors: \").lower()\n",
    "computer = random.choice(choices)\n",
    "\n",
    "if user == computer:\n",
    "    print(f\"Both chose {user}. It's a tie!\")\n",
    "elif (user == \"rock\" and computer == \"scissors\") or \\\n",
    "     (user == \"paper\" and computer == \"rock\") or \\\n",
    "     (user == \"scissors\" and computer == \"paper\"):\n",
    "    print(f\"You win! {user} beats {computer}.\")\n",
    "else:\n",
    "    print(f\"You lose! {computer} beats {user}.\")"
   ]
  },
  {
   "cell_type": "markdown",
   "metadata": {
    "id": "4grbWxItcLev"
   },
   "source": [
    "# Notes to study"
   ]
  },
  {
   "cell_type": "markdown",
   "metadata": {
    "id": "I7f5U8-VUjU9"
   },
   "source": [
    "#### 1. if Statement\n",
    "Executes a block of code if the condition is True.\n",
    "\n",
    "Example:\n",
    "```python\n",
    "x = 10\n",
    "if x > 5:\n",
    "    print(\"x is greater than 5\")\n",
    "```\n",
    "\n",
    "#### 2. if-else Statement\n",
    "Executes one block of code if the condition is True, otherwise it executes a different block of code.\n",
    "\n",
    "Example:\n",
    "```python\n",
    "x = 3\n",
    "if x > 5:\n",
    "    print(\"x is greater than 5\")\n",
    "else:\n",
    "    print(\"x is not greater than 5\")\n",
    "```\n",
    "\n",
    "#### 3. if-elif-else Statement\n",
    "Executes different blocks of code based on multiple conditions. If the first condition is False, the elif condition is evaluated. If none of the conditions are True, the else block is executed.\n",
    "\n",
    "Example:\n",
    "``` python\n",
    "x = 7\n",
    "if x > 10:\n",
    "    print(\"x is greater than 10\")\n",
    "elif x > 5:\n",
    "    print(\"x is greater than 5 but less than or equal to 10\")\n",
    "else:\n",
    "    print(\"x is less than or equal to 5\")\n",
    "```\n",
    "\n",
    "#### 4. Nested if Statement\n",
    "You can nest if statements inside other if statements.\n",
    "\n",
    "Example:\n",
    "```python\n",
    "x = 8\n",
    "if x > 5:\n",
    "    if x < 10:\n",
    "        print(\"x is between 5 and 10\")\n",
    "```\n",
    "\n",
    "#### 5. Conditional (Ternary) Expression\n",
    "This is a shorthand for if-else that is written in a single line.\n",
    "\n",
    "Example:\n",
    "```python\n",
    "x = 10\n",
    "result = \"x is greater than 5\" if x > 5 else \"x is not greater than 5\"\n",
    "print(result)\n",
    "```\n",
    "\n",
    "#### 6. and, or, not Logical Operators in Conditionals\n",
    "You can combine multiple conditions using logical operators.\n",
    "\n",
    "and: Returns True if both conditions are True.\n",
    "\n",
    "Example using `and`:\n",
    "```python\n",
    "x = 7\n",
    "if x > 5 and x < 10:\n",
    "    print(\"x is between 5 and 10\")\n",
    "or: Returns True if at least one condition is True.\n",
    "```\n",
    "\n",
    "Example using `or`:\n",
    "```python\n",
    "x = 3\n",
    "if x > 5 or x < 10:\n",
    "    print(\"x is either greater than 5 or less than 10\")\n",
    "not: Reverses the boolean value of a condition.\n",
    "```\n",
    "\n",
    "Example using `not`:\n",
    "```python\n",
    "x = 3\n",
    "if not x > 5:\n",
    "    print(\"x is not greater than 5\")\n",
    "```\n",
    "\n",
    "#### 7. in Keyword in Conditionals\n",
    "You can check if a value exists within a list, string, or other collection types.\n",
    "\n",
    "Example:\n",
    "```python\n",
    "name = \"Alice\"\n",
    "if \"A\" in name:\n",
    "    print(\"The letter 'A' is in the name\")\n",
    "```\n",
    "\n",
    "#### 8. is Keyword in Conditionals\n",
    "Checks if two objects are the same object in memory.\n",
    "\n",
    "Example:\n",
    "```python\n",
    "a = [1, 2, 3]\n",
    "b = a\n",
    "if a is b:\n",
    "    print(\"a and b refer to the same object\")\n",
    "```\n",
    "\n",
    "#### 9. Chained Comparison\n",
    "Python allows chaining multiple comparisons.\n",
    "\n",
    "Example:\n",
    "```python\n",
    "x = 7\n",
    "if 5 < x < 10:\n",
    "    print(\"x is between 5 and 10\")\n",
    "```\n",
    "\n",
    "---\n",
    "### Functions\n",
    "\n",
    "```python\n",
    "x = 3  # Assigns 3 to x\n",
    "y = 5  # Assigns 5 to y\n",
    "\n",
    "# Function to compare two numbers\n",
    "def compare(x, y):\n",
    "    if x > y:  # If x is greater than y\n",
    "        print(f\"{x} is greater than {y}\")  # Prints this message\n",
    "\n",
    "    elif x < y:  # If x is less than y\n",
    "        print(f\"{x} is less than {y}\")  # Prints this message\n",
    "\n",
    "    else:  # If x is neither greater than nor less than y (so x == y)\n",
    "        print(f\"{x} is equal to {y}\")  # Prints this message\n",
    "\n",
    "# Call the compare function with x and y\n",
    "compare(x, y)\n",
    "```\n",
    "#### Breakdown\n",
    "\n",
    "**Variable assignment:**\n",
    "\n",
    "x = 3: Assigns the value 3 to the variable x.\n",
    "y = 5: Assigns the value 5 to the variable y.\n",
    "\n",
    "**Function definition `compare(x, y)`:**\n",
    "\n",
    "- This function takes two arguments: x and y, which are the numbers that will be compared.\n",
    "\n",
    "**Conditional Statements:**\n",
    "\n",
    "- `if x > y`: Checks if x is greater than y.\n",
    "    - If True, it prints \"3 is greater than 5\".\n",
    "    - In this case, this condition is False, so it doesn't execute this block.\n",
    "- `elif x < y`: This checks if x is less than y.\n",
    "    - If True, it prints \"3 is less than 5\".\n",
    "    - In this case, this condition is True, so it executes this block and prints \"3 is less than 5\".\n",
    "- `else`: If neither of the previous conditions are True, it means x and y are equal.\n",
    "    - In that case, it would print \"x is equal to y\".\n",
    "    - This block is skipped since the previous elif condition was True.\n",
    "\n",
    "**Function call `compare(x, y)`:**\n",
    "\n",
    "The function is called with the values of `x` and `y` (i.e., compare(3, 5)). Since 3 is less than 5, the function prints: \"3 is less than 5\".\n",
    "\n",
    "Output:\n",
    "```python\n",
    "3 is less than 5\n",
    "```\n",
    "This is because the second condition x < y is true in this case."
   ]
  },
  {
   "cell_type": "markdown",
   "metadata": {
    "id": "lxsidzhDin4D"
   },
   "source": [
    "**Function with Default Parameters:**\n",
    "You can assign default values to parameters. If the user doesn't pass an argument, the function uses the default value.\n",
    "\n",
    "```python\n",
    "\n",
    "def greet(name=\"World\"):\n",
    "    print(f\"Hello, {name}!\")\n",
    "```\n",
    "\n",
    "Calling the function:\n",
    "\n",
    "```python\n",
    "greet()         # Output: Hello, World!\n",
    "greet(\"Alice\")  # Output: Hello, Alice!\n",
    "```\n",
    "\n",
    "**Function with Return Value:**\n",
    "A function can return a value, which you can capture in a variable for later use:\n",
    "\n",
    "```python\n",
    "def square(number):\n",
    "    return number ** 2\n",
    "\n",
    "result = square(4)\n",
    "print(result)  # Output: 16\n",
    "```\n",
    "\n",
    "**Functions Without Parameters:**\n",
    "Not all functions need parameters. Some just perform a task without needing any input.\n",
    "\n",
    "```python\n",
    "def say_hello():\n",
    "    print(\"Hello, World!\")\n",
    "```\n",
    "\n",
    "**Calling the function:**\n",
    "\n",
    "```python\n",
    "say_hello()  # Output: Hello, World!\n",
    "```\n",
    "\n",
    "#### Built-in vs. User-defined Functions\n",
    "**Built-in Functions:**\n",
    "\n",
    " - Functions that come with Python, like print(), len(), type(), sum(), etc.\n",
    "\n",
    "**User-defined Functions:**\n",
    "\n",
    " - Functions that you define using def, like the examples above.\n",
    "\n",
    "**Scope of Variables in Functions**\n",
    "\n",
    "- Variables defined inside a function are local to that function and are not accessible outside of it.\n",
    "\n",
    "```python\n",
    "def my_function():\n",
    "    x = 10  # x is local to this function\n",
    "    print(x)\n",
    "\n",
    "my_function()  # Output: 10\n",
    "print(x)  # Error: x is not defined outside the function\n",
    "```\n",
    "\n",
    "####Summary:\n",
    "- **Function Definition:** Use `def` to define a function.\n",
    "- **Function Parameters:** Functions can take parameters `(inputs)` to work with.\n",
    "- **Return Statement:** Use return to give back a result.\n",
    "- **Reusability:** Functions allow you to reuse code without duplicating it.\n",
    "\n",
    "Functions are an essential part of writing organized, maintainable, and scalable code in Python!"
   ]
  },
  {
   "cell_type": "code",
   "execution_count": null,
   "metadata": {
    "id": "Ax7SJYVXSXaq"
   },
   "outputs": [],
   "source": [
    "x = 4\n",
    "y = 8\n",
    "\n",
    "# if x > y:\n",
    "#     print(f\"{x} is greater than {y}\")\n",
    "# elif x < y:\n",
    "#     print(f\"{x} is less than {y}\")\n",
    "# else:\n",
    "#     print(f\"{x} is equal to {y}\")\n",
    "\n",
    "\n",
    "\n",
    "def compare(x, y):\n",
    "    if x > y:\n",
    "        print(f\"{x} is greater than {y}\")\n",
    "    elif x < y:\n",
    "        print(f\"{x} is less than {y}\")\n",
    "    else:\n",
    "        print(f\"{x} is equal to {y}\")\n",
    "\n",
    "# compare(x, y)"
   ]
  },
  {
   "cell_type": "code",
   "execution_count": null,
   "metadata": {
    "colab": {
     "base_uri": "https://localhost:8080/"
    },
    "id": "4DidW13NYvnF",
    "outputId": "2b5de6d6-4fba-4daa-aacc-49c093243546"
   },
   "outputs": [
    {
     "name": "stdout",
     "output_type": "stream",
     "text": [
      "35 is greater than 20\n"
     ]
    }
   ],
   "source": [
    "a = 35\n",
    "b = 20\n",
    "\n",
    "compare(a, b)"
   ]
  },
  {
   "cell_type": "code",
   "execution_count": null,
   "metadata": {
    "colab": {
     "base_uri": "https://localhost:8080/"
    },
    "id": "dYDXiFv2ZNiX",
    "outputId": "e6337d6e-696d-4b15-aae2-bee91885f80f"
   },
   "outputs": [
    {
     "name": "stdout",
     "output_type": "stream",
     "text": [
      "10 is greater than 5\n"
     ]
    }
   ],
   "source": [
    "num = 10\n",
    "num2 = 5\n",
    "\n",
    "compare(num, num2)\n"
   ]
  }
 ],
 "metadata": {
  "colab": {
   "authorship_tag": "ABX9TyO/j4niAzZEn9hXsodggkAw",
   "include_colab_link": true,
   "provenance": []
  },
  "kernelspec": {
   "display_name": "Python 3",
   "name": "python3"
  },
  "language_info": {
   "codemirror_mode": {
    "name": "ipython",
    "version": 3
   },
   "file_extension": ".py",
   "mimetype": "text/x-python",
   "name": "python",
   "nbconvert_exporter": "python",
   "pygments_lexer": "ipython3",
   "version": "3.13.0"
  }
 },
 "nbformat": 4,
 "nbformat_minor": 0
}
