{
 "cells": [
  {
   "cell_type": "markdown",
   "metadata": {
    "colab_type": "text",
    "id": "view-in-github"
   },
   "source": [
    "<a href=\"https://colab.research.google.com/github/dmorton714/data_2024/blob/main/week_2_2024.ipynb\" target=\"_parent\"><img src=\"https://colab.research.google.com/assets/colab-badge.svg\" alt=\"Open In Colab\"/></a>"
   ]
  },
  {
   "cell_type": "markdown",
   "metadata": {
    "id": "FqqtQCvbEfea"
   },
   "source": [
    "# What are Lists in Python?\n",
    "\n",
    "**Objective:** Introduce the concept of lists in Python.\n",
    "\n",
    "Explanation:\n",
    "\n",
    "A list is a collection of items (elements) that are ordered, changeable, and allow duplicate elements.\n",
    "Lists are written with square brackets [].\n",
    "Example:\n",
    "\n",
    "```python\n",
    "fruits = [\"apple\", \"banana\", \"cherry\"]\n",
    "```\n",
    "\n",
    "Activity:\n",
    "\n",
    "- Create lists of favorite books, cities, or colors.\n",
    "- Print the list and check its type using `type()`.\n",
    "\n"
   ]
  },
  {
   "cell_type": "code",
   "execution_count": 1,
   "metadata": {
    "colab": {
     "base_uri": "https://localhost:8080/"
    },
    "id": "VBxzp_P7kHg4",
    "outputId": "b5a34b78-c6de-4a16-bff4-d6d489879d2b"
   },
   "outputs": [
    {
     "name": "stdout",
     "output_type": "stream",
     "text": [
      "['purple', 'black', 'grey', 'gold']\n"
     ]
    }
   ],
   "source": [
    "colors = [\"purple\", \"black\", \"grey\", \"gold\"]\n",
    "print(colors)"
   ]
  },
  {
   "cell_type": "code",
   "execution_count": 2,
   "metadata": {
    "colab": {
     "base_uri": "https://localhost:8080/"
    },
    "id": "iXrwAKqhL2LY",
    "outputId": "7a60f568-43b0-4409-8254-3bdd26d5e657"
   },
   "outputs": [
    {
     "data": {
      "text/plain": [
       "list"
      ]
     },
     "execution_count": 2,
     "metadata": {},
     "output_type": "execute_result"
    }
   ],
   "source": [
    "type(colors)"
   ]
  },
  {
   "cell_type": "markdown",
   "metadata": {
    "id": "OpnYOl-SkHrM"
   },
   "source": [
    "# Using an Index to Access Lists\n",
    "\n",
    "**Objective:** Teach how to access list elements using their index.\n",
    "\n",
    "Explanation:\n",
    "\n",
    "Lists are zero-indexed, meaning the first element has an index of 0.\n",
    "Negative indexing can be used to access elements from the end of the list.\n",
    "Example:\n",
    "\n",
    "```python\n",
    "fruits = [\"apple\", \"banana\", \"cherry\"]\n",
    "print(fruits[0])  # Output: apple\n",
    "print(fruits[-1])  # Output: cherry\n",
    "```\n",
    "\n",
    "Activity:\n",
    "\n",
    "- Access different elements from your list using positive and negative indexes.\n",
    "- Practice with a out-of-range indices and note what happened."
   ]
  },
  {
   "cell_type": "code",
   "execution_count": 3,
   "metadata": {
    "colab": {
     "base_uri": "https://localhost:8080/",
     "height": 35
    },
    "id": "EHh4i3BbkzcE",
    "outputId": "8f85aa26-b18c-47df-b304-39a85e5cf8a7"
   },
   "outputs": [
    {
     "data": {
      "application/vnd.google.colaboratory.intrinsic+json": {
       "type": "string"
      },
      "text/plain": [
       "'banana'"
      ]
     },
     "execution_count": 3,
     "metadata": {},
     "output_type": "execute_result"
    }
   ],
   "source": [
    "fruits = [\"apple\", \"banana\", \"cherry\"]\n",
    "fruits[1]"
   ]
  },
  {
   "cell_type": "code",
   "execution_count": 4,
   "metadata": {
    "colab": {
     "base_uri": "https://localhost:8080/",
     "height": 141
    },
    "id": "ZmvyCxX8MAuH",
    "outputId": "d6b56c18-4edb-490a-8960-7ba951086de4"
   },
   "outputs": [
    {
     "ename": "IndexError",
     "evalue": "list index out of range",
     "output_type": "error",
     "traceback": [
      "\u001b[0;31m---------------------------------------------------------------------------\u001b[0m",
      "\u001b[0;31mIndexError\u001b[0m                                Traceback (most recent call last)",
      "\u001b[0;32m<ipython-input-4-40c82ea21de9>\u001b[0m in \u001b[0;36m<cell line: 1>\u001b[0;34m()\u001b[0m\n\u001b[0;32m----> 1\u001b[0;31m \u001b[0mfruits\u001b[0m\u001b[0;34m[\u001b[0m\u001b[0;36m50\u001b[0m\u001b[0;34m]\u001b[0m\u001b[0;34m\u001b[0m\u001b[0;34m\u001b[0m\u001b[0m\n\u001b[0m",
      "\u001b[0;31mIndexError\u001b[0m: list index out of range"
     ]
    }
   ],
   "source": [
    "fruits[50]"
   ]
  },
  {
   "cell_type": "markdown",
   "metadata": {
    "id": "k6lAH4qskzrX"
   },
   "source": [
    "# Important Functions and Methods for Lists\n",
    "\n",
    "**Objective:** Familiarize students with essential list functions and methods.\n",
    "\n",
    "Explanation:\n",
    "\n",
    "Common list methods:\n",
    "- `append()`: Add an item at the end.\n",
    "- `insert()`: Insert an item at a specific index.\n",
    "- `remove()`: Remove a specific item.\n",
    "- `pop()`: Remove an item at a specific position (or the last one if no index is provided).\n",
    "- `sort()`: Sort the list.\n",
    "\n",
    "Example:\n",
    "\n",
    "```python\n",
    "fruits = [\"apple\", \"banana\", \"cherry\"]\n",
    "fruits.append(\"orange\")\n",
    "fruits.remove(\"banana\")\n",
    "print(fruits)  # Output: [\"apple\", \"cherry\", \"orange\"]\n",
    "```\n",
    "\n",
    "Activity:\n",
    "\n",
    "- Modify your lists using different methods (add, remove, and sort elements).\n",
    "- Practice `pop()` to see how it returns and removes an element."
   ]
  },
  {
   "cell_type": "code",
   "execution_count": 4,
   "metadata": {
    "colab": {
     "base_uri": "https://localhost:8080/"
    },
    "id": "De2Kjp-RMzKP",
    "outputId": "7fdbc452-4eb6-4044-b800-3909832cd499"
   },
   "outputs": [
    {
     "data": {
      "text/plain": [
       "['apple', 'banana', 'cherry', 'orange']"
      ]
     },
     "execution_count": 4,
     "metadata": {},
     "output_type": "execute_result"
    }
   ],
   "source": [
    "fruits = [\"apple\", \"banana\", \"cherry\"]\n",
    "fruits.append(\"orange\")\n",
    "fruits"
   ]
  },
  {
   "cell_type": "code",
   "execution_count": 5,
   "metadata": {
    "colab": {
     "base_uri": "https://localhost:8080/"
    },
    "id": "qfPYPJuqMIoK",
    "outputId": "b57d91ff-e479-4a02-e2d1-1c36948f4138"
   },
   "outputs": [
    {
     "data": {
      "text/plain": [
       "['apple', 'cherry', 'orange']"
      ]
     },
     "execution_count": 5,
     "metadata": {},
     "output_type": "execute_result"
    }
   ],
   "source": [
    "fruits.remove(\"banana\")\n",
    "fruits"
   ]
  },
  {
   "cell_type": "code",
   "execution_count": 6,
   "metadata": {
    "colab": {
     "base_uri": "https://localhost:8080/"
    },
    "id": "beIScxScMIvS",
    "outputId": "a9cc547f-eb33-4a2f-9e67-ec96a193cbf0"
   },
   "outputs": [
    {
     "data": {
      "text/plain": [
       "['apple', 'cherry', 'orange']"
      ]
     },
     "execution_count": 6,
     "metadata": {},
     "output_type": "execute_result"
    }
   ],
   "source": [
    "fruits.sort()\n",
    "fruits"
   ]
  },
  {
   "cell_type": "code",
   "execution_count": 7,
   "metadata": {
    "colab": {
     "base_uri": "https://localhost:8080/"
    },
    "id": "vkGp4NzoMIzP",
    "outputId": "ba72662a-9b84-4f3b-ca3c-85cef82d9465"
   },
   "outputs": [
    {
     "data": {
      "text/plain": [
       "['apple', 'cherry']"
      ]
     },
     "execution_count": 7,
     "metadata": {},
     "output_type": "execute_result"
    }
   ],
   "source": [
    "fruits.pop()\n",
    "fruits"
   ]
  },
  {
   "cell_type": "code",
   "execution_count": 8,
   "metadata": {
    "colab": {
     "base_uri": "https://localhost:8080/"
    },
    "id": "grbjTi8HMI2n",
    "outputId": "3dc86539-7688-4dca-af45-958c2ba4d671"
   },
   "outputs": [
    {
     "data": {
      "text/plain": [
       "['apple']"
      ]
     },
     "execution_count": 8,
     "metadata": {},
     "output_type": "execute_result"
    }
   ],
   "source": [
    "fruits.pop()\n",
    "fruits"
   ]
  },
  {
   "cell_type": "markdown",
   "metadata": {
    "id": "4uRYh4WnmdxQ"
   },
   "source": [
    "# Iterating Using the for Loop\n",
    "\n",
    "**Objective:** Teach how to iterate over lists using for loops.\n",
    "\n",
    "**Explanation:**\n",
    "\n",
    "A for loop allows you to go through each element in a list.\n",
    "It repeats the block of code for every element.\n",
    "\n",
    "Example:\n",
    "\n",
    "```python\n",
    "fruits = [\"apple\", \"banana\", \"cherry\"]\n",
    "for fruit in fruits:\n",
    "    print(fruit)\n",
    "```\n",
    "\n",
    "Activity:\n",
    "\n",
    "- Write a for loop that prints each element of their lists.\n",
    "- Combine a for loop with an if condition (e.g., print only fruits starting with \"a\").\n"
   ]
  },
  {
   "cell_type": "code",
   "execution_count": 9,
   "metadata": {
    "colab": {
     "base_uri": "https://localhost:8080/"
    },
    "id": "MZgJu1fGmjmz",
    "outputId": "febc6115-f183-452c-ef87-710574b3fe88"
   },
   "outputs": [
    {
     "name": "stdout",
     "output_type": "stream",
     "text": [
      "apple\n",
      "banana\n",
      "cherry\n"
     ]
    }
   ],
   "source": [
    "fruits = [\"apple\", \"banana\", \"cherry\"]\n",
    "for fruit in fruits:\n",
    "    print(fruit)"
   ]
  },
  {
   "cell_type": "code",
   "execution_count": 10,
   "metadata": {
    "colab": {
     "base_uri": "https://localhost:8080/"
    },
    "id": "yG91zvmLMfzX",
    "outputId": "1a0cb7ad-65e5-4b61-e45b-8aef8876e210"
   },
   "outputs": [
    {
     "name": "stdout",
     "output_type": "stream",
     "text": [
      "apple\n"
     ]
    }
   ],
   "source": [
    "for fruit in fruits:\n",
    "    if fruit.startswith(\"a\"):\n",
    "        print(fruit)"
   ]
  },
  {
   "cell_type": "code",
   "execution_count": 11,
   "metadata": {
    "colab": {
     "base_uri": "https://localhost:8080/"
    },
    "id": "YJH0mgTVMvNN",
    "outputId": "497de760-7071-4927-c020-a4a5dbe3ba83"
   },
   "outputs": [
    {
     "data": {
      "text/plain": [
       "['apple', 'banana', 'cherry', 'avocado']"
      ]
     },
     "execution_count": 11,
     "metadata": {},
     "output_type": "execute_result"
    }
   ],
   "source": [
    "fruits.append(\"avocado\")\n",
    "fruits"
   ]
  },
  {
   "cell_type": "code",
   "execution_count": 12,
   "metadata": {
    "colab": {
     "base_uri": "https://localhost:8080/"
    },
    "id": "9SIU_7NaMzZR",
    "outputId": "dbb7c85e-cd33-4aa3-a87a-8925b92d26bd"
   },
   "outputs": [
    {
     "name": "stdout",
     "output_type": "stream",
     "text": [
      "apple\n",
      "avocado\n"
     ]
    }
   ],
   "source": [
    "for fruit in fruits:\n",
    "    if fruit.startswith(\"a\"):\n",
    "        print(fruit)"
   ]
  },
  {
   "cell_type": "markdown",
   "metadata": {
    "id": "QiSH1jNqmj-F"
   },
   "source": [
    "# Using Ranges to Create Sequences of Numbers\n",
    "\n",
    "**Objective:** Learn how to generate a range of numbers and use them in loops.\n",
    "\n",
    "Explanation:\n",
    "\n",
    "`range(start, stop, step)` generates numbers in a sequence.\n",
    "It’s often used in for loops when working with indices or generating sequences.\n",
    "Example:\n",
    "\n",
    "```python\n",
    "for i in range(5):\n",
    "    print(i)  # Output: 0, 1, 2, 3, 4\n",
    "```\n",
    "\n",
    "**Activity:**\n",
    "\n",
    "- Write a loop that uses `range()` to print numbers from 1 to 10.\n",
    "- Use a step of 2 to print every second number.\n",
    "\n"
   ]
  },
  {
   "cell_type": "code",
   "execution_count": 16,
   "metadata": {
    "colab": {
     "base_uri": "https://localhost:8080/"
    },
    "id": "-sCSwObLoG7W",
    "outputId": "3d15a20c-776f-4bc4-a0d0-f971d6da0dc7"
   },
   "outputs": [
    {
     "name": "stdout",
     "output_type": "stream",
     "text": [
      "2\n",
      "4\n",
      "6\n",
      "8\n",
      "10\n"
     ]
    }
   ],
   "source": [
    "for number in range(2,11,2):\n",
    "    print(number)\n"
   ]
  },
  {
   "cell_type": "code",
   "execution_count": 18,
   "metadata": {
    "colab": {
     "base_uri": "https://localhost:8080/"
    },
    "id": "5nk3nSBUM7yv",
    "outputId": "44aa40c3-9671-4ef0-ce35-5f57318aff33"
   },
   "outputs": [
    {
     "name": "stdout",
     "output_type": "stream",
     "text": [
      "1\n",
      "3\n",
      "5\n",
      "7\n",
      "9\n"
     ]
    }
   ],
   "source": [
    "for number in range(1,11,2):\n",
    "    print(number)"
   ]
  },
  {
   "cell_type": "markdown",
   "metadata": {
    "id": "wuUAqq0goHSs"
   },
   "source": [
    "# Sequences\n",
    "\n",
    "**Objective:** Understand sequences and their shared characteristics.\n",
    "\n",
    "**Explanation:**\n",
    "\n",
    "Lists, strings, and tuples are all sequences in Python.\n",
    "Sequences support common operations like indexing, slicing, and iteration.\n",
    "Example:\n",
    "\n",
    "```python\n",
    "sequence = [1, 2, 3, 4, 5]\n",
    "print(sequence[0])  # Output: 1\n",
    "```\n",
    "\n",
    "Activity:\n",
    "\n",
    "- Create sequences using different data types (list, string, tuple).\n",
    "- Discuss similarities between lists and other sequences (e.g., strings can be indexed similarly).\n",
    "\n",
    "\n"
   ]
  },
  {
   "cell_type": "code",
   "execution_count": 17,
   "metadata": {
    "colab": {
     "base_uri": "https://localhost:8080/"
    },
    "id": "180KxnhYod7L",
    "outputId": "17a69300-1378-4564-e53f-9daba84d14d2"
   },
   "outputs": [
    {
     "data": {
      "text/plain": [
       "[[1, 2, 3, 4, 5], 'Hello, World!', (10, 20, 30)]"
      ]
     },
     "execution_count": 17,
     "metadata": {},
     "output_type": "execute_result"
    }
   ],
   "source": [
    "my_list = [1, 2, 3, 4, 5]\n",
    "my_string = \"Hello, World!\"\n",
    "my_tuple = (10, 20, 30)\n",
    "sequence = [my_list, my_string, my_tuple]\n",
    "sequence"
   ]
  },
  {
   "cell_type": "code",
   "execution_count": 18,
   "metadata": {
    "colab": {
     "base_uri": "https://localhost:8080/"
    },
    "id": "aoA44vcKNWJN",
    "outputId": "98dd87c5-462f-4854-b9ca-813b704c544c"
   },
   "outputs": [
    {
     "data": {
      "text/plain": [
       "[1, 2, 3, 4, 5]"
      ]
     },
     "execution_count": 18,
     "metadata": {},
     "output_type": "execute_result"
    }
   ],
   "source": [
    "sequence[0]"
   ]
  },
  {
   "cell_type": "code",
   "execution_count": 19,
   "metadata": {
    "colab": {
     "base_uri": "https://localhost:8080/",
     "height": 35
    },
    "id": "6Bk20FlvNYph",
    "outputId": "656fc8ad-66b4-480a-bdf3-232b2eb50405"
   },
   "outputs": [
    {
     "data": {
      "text/plain": [
       "'Hello, World!'"
      ]
     },
     "execution_count": 19,
     "metadata": {},
     "output_type": "execute_result"
    }
   ],
   "source": [
    "sequence[1]"
   ]
  },
  {
   "cell_type": "code",
   "execution_count": 20,
   "metadata": {
    "colab": {
     "base_uri": "https://localhost:8080/"
    },
    "id": "OxuQcjLQNajL",
    "outputId": "9c341c1d-8bf2-459b-deb3-b2e65bf4d0ae"
   },
   "outputs": [
    {
     "data": {
      "text/plain": [
       "30"
      ]
     },
     "execution_count": 20,
     "metadata": {},
     "output_type": "execute_result"
    }
   ],
   "source": [
    "# prints the tuple but only the item in the second position\n",
    "sequence[2][2]"
   ]
  },
  {
   "cell_type": "markdown",
   "metadata": {
    "id": "U9NF7lWmofVd"
   },
   "source": [
    "# Slicing\n",
    "\n",
    "**Objective:** Learn how to extract subsets of a list using slicing.\n",
    "\n",
    "**Explanation:**\n",
    "\n",
    "Slicing allows you to extract parts of a list (or any sequence) using start:end:step.\n",
    "start is inclusive, but end is exclusive.\n",
    "Example:\n",
    "\n",
    "```python\n",
    "numbers = [0, 1, 2, 3, 4, 5]\n",
    "print(numbers[1:4])  # Output: [1, 2, 3]\n",
    "```\n",
    "\n",
    "**Activity:**\n",
    "\n",
    "- Extract a subset of their list using slicing.\n",
    "- Try slices with different step values (e.g., reverse the list with [::-1]).\n"
   ]
  },
  {
   "cell_type": "code",
   "execution_count": 21,
   "metadata": {
    "colab": {
     "base_uri": "https://localhost:8080/"
    },
    "id": "nLTFgBg3o7i-",
    "outputId": "276e6b66-5fa5-4bbf-f0c5-65ce93252cfc"
   },
   "outputs": [
    {
     "data": {
      "text/plain": [
       "[1, 2, 3]"
      ]
     },
     "execution_count": 21,
     "metadata": {},
     "output_type": "execute_result"
    }
   ],
   "source": [
    "numbers = [0, 1, 2, 3, 4, 5]\n",
    "numbers[1:4]"
   ]
  },
  {
   "cell_type": "code",
   "execution_count": 22,
   "metadata": {
    "colab": {
     "base_uri": "https://localhost:8080/"
    },
    "id": "C5ViQoRxOCMM",
    "outputId": "a5db4c67-8843-42f7-ef53-6fd1cdcc3ae5"
   },
   "outputs": [
    {
     "data": {
      "text/plain": [
       "[5, 4, 3, 2, 1, 0]"
      ]
     },
     "execution_count": 22,
     "metadata": {},
     "output_type": "execute_result"
    }
   ],
   "source": [
    "numbers[::-1]"
   ]
  },
  {
   "cell_type": "markdown",
   "metadata": {
    "id": "FXvlWq_3o7qr"
   },
   "source": [
    "# List Comprehension\n",
    "\n",
    "**Objective:** Introduce list comprehension for creating new lists in a concise way.\n",
    "\n",
    "**Explanation:**\n",
    "\n",
    "List comprehension offers a shorter syntax to create new lists based on existing ones.\n",
    "Example:\n",
    "\n",
    "```python\n",
    "numbers = [1, 2, 3, 4, 5]\n",
    "squares = [x**2 for x in numbers]\n",
    "print(squares)  # Output: [1, 4, 9, 16, 25]\n",
    "```\n",
    "\n",
    "**Activity:**\n",
    "\n",
    "- create a new list using list comprehension, e.g., a list of squares or even numbers.\n",
    "- ***Challenge*** include an if condition in the comprehension, such as filtering out odd numbers."
   ]
  },
  {
   "cell_type": "code",
   "execution_count": 29,
   "metadata": {
    "colab": {
     "base_uri": "https://localhost:8080/"
    },
    "id": "kqY4gunPpjhG",
    "outputId": "025d4fdc-4239-4f9b-e281-efbc14661999"
   },
   "outputs": [
    {
     "data": {
      "text/plain": [
       "[1, 4, 9, 16, 25]"
      ]
     },
     "execution_count": 29,
     "metadata": {},
     "output_type": "execute_result"
    }
   ],
   "source": [
    "numbers = [1, 2, 3, 4, 5]\n",
    "squares = [x**2 for x in numbers]\n",
    "squares"
   ]
  },
  {
   "cell_type": "code",
   "execution_count": 23,
   "metadata": {
    "colab": {
     "base_uri": "https://localhost:8080/"
    },
    "id": "Qlo33JFLOTZz",
    "outputId": "c5aeb987-95b6-4acb-bd52-2741f75e3451"
   },
   "outputs": [
    {
     "data": {
      "text/plain": [
       "[0, 4, 16]"
      ]
     },
     "execution_count": 23,
     "metadata": {},
     "output_type": "execute_result"
    }
   ],
   "source": [
    "squares = [x**2 for x in numbers if x % 2 == 0]\n",
    "squares"
   ]
  },
  {
   "cell_type": "markdown",
   "metadata": {
    "id": "uQiffD-8plJs"
   },
   "source": [
    "# Final Exercise:\n",
    "\n",
    "Create a program that:\n",
    "- Asks the user to input a list of numbers  \n",
    "- Then prints the list.\n",
    "- Slices and prints the first 3 elements\n",
    "- Uses list comprehension to print the square of each number."
   ]
  },
  {
   "cell_type": "code",
   "execution_count": 2,
   "metadata": {
    "colab": {
     "base_uri": "https://localhost:8080/"
    },
    "id": "zG9FeDZMqbon",
    "outputId": "7a67cda2-cde1-41e1-c3cb-c74ce3391ce0"
   },
   "outputs": [
    {
     "name": "stdout",
     "output_type": "stream",
     "text": [
      "['3', '6', '9']\n"
     ]
    }
   ],
   "source": [
    "numbers = input(\"Enter a list of numbers separated by spaces: \")\n",
    "numbers_list = numbers.split()\n",
    "print(numbers_list)"
   ]
  },
  {
   "cell_type": "code",
   "execution_count": 24,
   "metadata": {
    "colab": {
     "base_uri": "https://localhost:8080/"
    },
    "id": "PdE2q6aKOk9V",
    "outputId": "48f9b79f-787e-4a9c-de18-0b2e7ec15fd2"
   },
   "outputs": [
    {
     "name": "stdout",
     "output_type": "stream",
     "text": [
      "25\n",
      "49\n",
      "100\n",
      "1089\n"
     ]
    }
   ],
   "source": [
    "numbers = input(\"Enter a list of numbers separated by spaces: \")\n",
    "numbers_list = numbers.split()\n",
    "for number in numbers_list:\n",
    "    squared_number = int(number) ** 2\n",
    "    print(squared_number)"
   ]
  },
  {
   "cell_type": "markdown",
   "metadata": {
    "id": "aGs2Lzd_NEn8"
   },
   "source": [
    "# Bonus\n",
    "\n",
    "### FizzBuzz Instructions:\n",
    "\n",
    "1. Objective: Write a program that prints the numbers from 1 to 100.\n",
    "    - But for multiples of 3, print \"Fizz\" instead of the number\n",
    "  - For multiples of 5, print \"Buzz.\"\n",
    "  - For numbers which are multiples of both 3 and 5, print \"FizzBuzz.\"\n",
    "\n",
    "2. Using the Modulus Operator (%):\n",
    "  - The modulus operator is key to determining whether a number is divisible by another number. It returns the remainder of a division.\n",
    "\n",
    "\n",
    "3. Steps:\n",
    "\n",
    "  - Loop through numbers from 1 to 100.\n",
    "  - For each number, use the modulus operator to check:\n",
    "  - If it is divisible by both 3 and 5, print \"FizzBuzz.\"\n",
    "  - If it is divisible only by 3, print \"Fizz.\"\n",
    "  - If it is divisible only by 5, print \"Buzz.\"\n",
    "  - Otherwise, print the number itself.\n"
   ]
  },
  {
   "cell_type": "code",
   "execution_count": null,
   "metadata": {
    "id": "Sbig89F5NZmQ"
   },
   "outputs": [],
   "source": []
  }
 ],
 "metadata": {
  "colab": {
   "authorship_tag": "ABX9TyPxDlqsNOq3PalCrKsSYJ4L",
   "include_colab_link": true,
   "provenance": []
  },
  "kernelspec": {
   "display_name": "Python 3",
   "name": "python3"
  },
  "language_info": {
   "codemirror_mode": {
    "name": "ipython",
    "version": 3
   },
   "file_extension": ".py",
   "mimetype": "text/x-python",
   "name": "python",
   "nbconvert_exporter": "python",
   "pygments_lexer": "ipython3",
   "version": "3.13.0"
  }
 },
 "nbformat": 4,
 "nbformat_minor": 0
}
