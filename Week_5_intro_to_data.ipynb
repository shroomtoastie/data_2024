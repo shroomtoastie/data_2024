{
  "nbformat": 4,
  "nbformat_minor": 0,
  "metadata": {
    "colab": {
      "provenance": [],
      "include_colab_link": true
    },
    "kernelspec": {
      "name": "python3",
      "display_name": "Python 3"
    },
    "language_info": {
      "name": "python"
    }
  },
  "cells": [
    {
      "cell_type": "markdown",
      "metadata": {
        "id": "view-in-github",
        "colab_type": "text"
      },
      "source": [
        "<a href=\"https://colab.research.google.com/github/dmorton714/data_2024/blob/main/Week_5_intro_to_data.ipynb\" target=\"_parent\"><img src=\"https://colab.research.google.com/assets/colab-badge.svg\" alt=\"Open In Colab\"/></a>"
      ]
    },
    {
      "cell_type": "markdown",
      "source": [
        "# Introduction to Data Analytics"
      ],
      "metadata": {
        "id": "7DsIoTzB4_nU"
      }
    },
    {
      "cell_type": "markdown",
      "source": [
        "- ### What is Data Analytics?\n",
        "\n",
        "  - The process of examining, cleaning, and transforming data to extract useful insights and support decision-making.\n",
        "  - Used across industries: business, healthcare, finance, sports, and more.\n",
        "\n",
        "\n",
        "\n",
        "---\n",
        "\n"
      ],
      "metadata": {
        "id": "s2AnyMvSvUA4"
      }
    },
    {
      "cell_type": "markdown",
      "source": [
        "- ### Why Learn Data Analytics?\n",
        "\n",
        "  - Increases employability in data-driven roles.\n",
        "  - Helps make informed decisions based on data evidence.\n",
        "  - Solves real-world problems and uncovers patterns or trends.\n",
        "\n",
        "---"
      ],
      "metadata": {
        "id": "_tGaHTGq1eFS"
      }
    },
    {
      "cell_type": "markdown",
      "source": [
        "# Data Analytics in Everyday Life"
      ],
      "metadata": {
        "id": "cB6Ky0Sn5D43"
      }
    },
    {
      "cell_type": "markdown",
      "source": [
        "### Examples:\n",
        "- **Business:** Analyzing sales data to improve marketing strategies.\n",
        "- **Healthcare:** Tracking patient health metrics for personalized treatment.\n",
        "- **Sports:** Evaluating player performance for team selection.\n",
        "- **Personal:** Tracking daily steps or budgeting expenses.\n",
        "- **Advertising:** Using location data / browsing data for advertising.\n",
        "\n",
        "---"
      ],
      "metadata": {
        "id": "Ibk0HtI5vYme"
      }
    },
    {
      "cell_type": "markdown",
      "source": [
        "# Why Python for Data Analytics?"
      ],
      "metadata": {
        "id": "TDtVS0sb5H2Y"
      }
    },
    {
      "cell_type": "markdown",
      "source": [
        "- **Easy to Learn:** Python’s syntax is clear and readable.\n",
        "- **Extensive Libraries:** Python offers powerful\n",
        "libraries like:\n",
        "  - **Pandas** for data manipulation\n",
        "  - **NumPy** for numerical operations\n",
        "  - **Matplotlib** and **Seaborn** for data visualization\n",
        "  - **Scikit-Learn** for machine learning (advanced topics)\n",
        "- **Community and Support:** Large community with resources and active forums.\n",
        "\n",
        "---"
      ],
      "metadata": {
        "id": "DlVQuxVlvf47"
      }
    },
    {
      "cell_type": "markdown",
      "source": [
        "# Data Analytics Workflow with Python"
      ],
      "metadata": {
        "id": "vesIty-W5K1q"
      }
    },
    {
      "cell_type": "markdown",
      "source": [
        "1. **Data Collection:** Gathering raw data from sources (spreadsheets, APIs, databases).\n",
        "2. **Data Cleaning:** Removing errors, handling missing values, and organizing the data.\n",
        "3. **Data Exploration:** Using summary statistics and visualizations to understand data.\n",
        "4. **Data Analysis:** Applying techniques to answer specific questions.\n",
        "5. **Reporting:** Sharing results in a format others can understand, often with visualizations.\n",
        "\n",
        "---"
      ],
      "metadata": {
        "id": "UYrdQjLKvmWo"
      }
    },
    {
      "cell_type": "markdown",
      "source": [
        "# Benefits of Data Analytics with Python"
      ],
      "metadata": {
        "id": "Lh4s2pO25OX9"
      }
    },
    {
      "cell_type": "markdown",
      "source": [
        "- **Automation:** Efficiently process and analyze large datasets.\n",
        "- **Visualization:** Create graphs and charts for storytelling.\n",
        "- **Predictive Analytics:** Make data-driven predictions (e.g., forecasting trends).\n",
        "- **Decision Support:** Back up conclusions with data insights.\n",
        "\n",
        "---\n"
      ],
      "metadata": {
        "id": "nlaGBjRFvo4T"
      }
    },
    {
      "cell_type": "markdown",
      "source": [
        "# Simple Sample Project Idea"
      ],
      "metadata": {
        "id": "xhdWA2YF5QnT"
      }
    },
    {
      "cell_type": "markdown",
      "source": [
        "- **Project:** Analyze a dataset (e.g., movie ratings, weather data).\n",
        "- **Goal:** Answer questions like “What are the highest-rated movies?” or “How does temperature vary by month?”\n",
        "- **Skills Practiced:** Cleaning data, creating visualizations, and calculating basic statistics.\n",
        "\n",
        "---"
      ],
      "metadata": {
        "id": "OMh95zgYvt1V"
      }
    },
    {
      "cell_type": "markdown",
      "source": [
        "# Tools and Libraries to Learn"
      ],
      "metadata": {
        "id": "GR953MDs5TbP"
      }
    },
    {
      "cell_type": "markdown",
      "source": [
        "### What we will cover coming up\n",
        "- **Jupyter Notebooks:** Interactive coding environment.\n",
        "- **Pandas:** Data manipulation and analysis.\n",
        "- **Matplotlib/Seaborn:** Data visualization.\n",
        "\n",
        "---"
      ],
      "metadata": {
        "id": "Gnqxg28ivwU2"
      }
    },
    {
      "cell_type": "markdown",
      "source": [
        "# What does raw data look like\n",
        "\n",
        "\n"
      ],
      "metadata": {
        "id": "mltlCmfc5ino"
      }
    },
    {
      "cell_type": "markdown",
      "source": [
        "Raw JSON data often looks like the example below. JSON is a popular format for delivering data in API responses due to its readability and compatibility with most programming languages.\n",
        "\n",
        "```json\n",
        "[\n",
        "    {\n",
        "        \"id\": 1,\n",
        "        \"name\": \"Alice Smith\",\n",
        "        \"age\": 30,\n",
        "        \"city\": \"New York\",\n",
        "        \"email\": \"alice.smith@example.com\"\n",
        "    },\n",
        "    {\n",
        "        \"id\": 2,\n",
        "        \"name\": \"Bob Jones\",\n",
        "        \"age\": 25,\n",
        "        \"city\": \"Los Angeles\",\n",
        "        \"email\": \"bob.jones@example.com\"\n",
        "    },\n",
        "    {\n",
        "        \"id\": 3,\n",
        "        \"name\": \"Charlie Brown\",\n",
        "        \"age\": 35,\n",
        "        \"city\": \"Chicago\",\n",
        "        \"email\": \"charlie.brown@example.com\"\n",
        "    }\n",
        "]\n",
        "```"
      ],
      "metadata": {
        "id": "Z-6FrHdk6Gx9"
      }
    },
    {
      "cell_type": "markdown",
      "source": [
        "Raw CSV data typically appears as shown in the example below. It is a widely used format for receiving local data, making it easy to process and analyze.\n",
        "\n",
        "```csv\n",
        "id,name,age,city,email\n",
        "1,Alice Smith,30,New York,alice.smith@example.com\n",
        "2,Bob Jones,25,Los Angeles,bob.jones@example.com\n",
        "3,Charlie Brown,35,Chicago,charlie.brown@example.com\n",
        "```"
      ],
      "metadata": {
        "id": "Flul_5c-65u5"
      }
    },
    {
      "cell_type": "markdown",
      "source": [
        "Raw HTML data may look like the example below. We use specialized packages to extract the relevant data from the HTML for further processing.\n",
        "\n",
        "``` html\n",
        "<html>\n",
        "  <body>\n",
        "    <table id=\"users\">\n",
        "      <tr>\n",
        "        <th>id</th>\n",
        "        <th>name</th>\n",
        "        <th>age</th>\n",
        "        <th>city</th>\n",
        "        <th>email</th>\n",
        "      </tr>\n",
        "      <tr>\n",
        "        <td>1</td>\n",
        "        <td>Alice Smith</td>\n",
        "        <td>30</td>\n",
        "        <td>New York</td>\n",
        "        <td>alice.smith@example.com</td>\n",
        "      </tr>\n",
        "      <tr>\n",
        "        <td>2</td>\n",
        "        <td>Bob Jones</td>\n",
        "        <td>25</td>\n",
        "        <td>Los Angeles</td>\n",
        "        <td>bob.jones@example.com</td>\n",
        "      </tr>\n",
        "      <tr>\n",
        "        <td>3</td>\n",
        "        <td>Charlie Brown</td>\n",
        "        <td>35</td>\n",
        "        <td>Chicago</td>\n",
        "        <td>charlie.brown@example.com</td>\n",
        "      </tr>\n",
        "    </table>\n",
        "  </body>\n",
        "</html>\n",
        "\n",
        "```"
      ],
      "metadata": {
        "id": "_FRghatT-aZV"
      }
    },
    {
      "cell_type": "markdown",
      "source": [
        "We can also convert lists, tuples, and dictionaries into pandas DataFrames. In fact, the range of data structures that can be converted into DataFrames is quite extensive."
      ],
      "metadata": {
        "id": "TFrwcADIBBsC"
      }
    },
    {
      "cell_type": "markdown",
      "source": [
        "We'll use the pandas library to load and organize all the data above, making it more readable and interactive. With pandas, the data will be presented in a clean, table-like format as shown below:\n",
        "\n",
        "| id | name           | age | city        | email                    |\n",
        "|----|----------------|-----|-------------|--------------------------|\n",
        "| 1  | Alice Smith    | 30  | New York    | alice.smith@example.com  |\n",
        "| 2  | Bob Jones      | 25  | Los Angeles | bob.jones@example.com    |\n",
        "| 3  | Charlie Brown  | 35  | Chicago     | charlie.brown@example.com|\n"
      ],
      "metadata": {
        "id": "qL-J3arn7IEj"
      }
    },
    {
      "cell_type": "markdown",
      "source": [
        "# Importing our libraries\n",
        "\n",
        "[pip instructions](https://python.land/virtual-environments/installing-packages-with-pip) for installing libraries to use in python."
      ],
      "metadata": {
        "id": "AomA9rb7I4pt"
      }
    },
    {
      "cell_type": "code",
      "source": [
        "import pandas as pd\n",
        "import numpy as np\n",
        "import matplotlib.pyplot as plt\n",
        "import seaborn as sns"
      ],
      "metadata": {
        "id": "ehnLYLP-C_BE"
      },
      "execution_count": null,
      "outputs": []
    },
    {
      "cell_type": "markdown",
      "source": [
        "# Making our data and converting it to a DataFrame\n",
        "- We have a dataset with some errors and missing values:"
      ],
      "metadata": {
        "id": "SEsKBcWwIw0w"
      }
    },
    {
      "cell_type": "code",
      "source": [
        "# Create a DataFrame with some mock student data\n",
        "data = {\n",
        "    'StudentID': [1, 2, 3, 4, 5, 6, 7, 8, 9, 10],\n",
        "    'Name': ['Alice', 'Bob', 'Charlie', 'David', 'Eva', 'Frank', 'Grace', 'Helen', 'Ivy', 'Jack'],\n",
        "    'MathScore': [85, 78, 92, 88, np.nan, 76, 94, 67, 80, 105],  # Missing value and an error (score > 100)\n",
        "    'ScienceScore': [90, 85, np.nan, 91, 75, 80, 95, 68, np.nan, 110],  # Missing value and an error (score > 100)\n",
        "    'EnglishScore': [82, 88, 79, np.nan, 92, 85, 91, 72, 80, 93]  # Missing value\n",
        "}\n",
        "\n",
        "df = pd.DataFrame(data)\n",
        "\n",
        "# Show the raw data\n",
        "print(\"Raw Data:\")\n",
        "df\n"
      ],
      "metadata": {
        "colab": {
          "base_uri": "https://localhost:8080/",
          "height": 380
        },
        "id": "To1C74eNIxyG",
        "outputId": "5e70c486-681d-486b-917e-d6be0aff5d2e"
      },
      "execution_count": null,
      "outputs": [
        {
          "output_type": "stream",
          "name": "stdout",
          "text": [
            "Raw Data:\n"
          ]
        },
        {
          "output_type": "execute_result",
          "data": {
            "text/plain": [
              "   StudentID     Name  MathScore  ScienceScore  EnglishScore\n",
              "0          1    Alice       85.0          90.0          82.0\n",
              "1          2      Bob       78.0          85.0          88.0\n",
              "2          3  Charlie       92.0           NaN          79.0\n",
              "3          4    David       88.0          91.0           NaN\n",
              "4          5      Eva        NaN          75.0          92.0\n",
              "5          6    Frank       76.0          80.0          85.0\n",
              "6          7    Grace       94.0          95.0          91.0\n",
              "7          8    Helen       67.0          68.0          72.0\n",
              "8          9      Ivy       80.0           NaN          80.0\n",
              "9         10     Jack      105.0         110.0          93.0"
            ],
            "text/html": [
              "\n",
              "  <div id=\"df-b7f3071b-b634-4735-b0f0-63466b910ffa\" class=\"colab-df-container\">\n",
              "    <div>\n",
              "<style scoped>\n",
              "    .dataframe tbody tr th:only-of-type {\n",
              "        vertical-align: middle;\n",
              "    }\n",
              "\n",
              "    .dataframe tbody tr th {\n",
              "        vertical-align: top;\n",
              "    }\n",
              "\n",
              "    .dataframe thead th {\n",
              "        text-align: right;\n",
              "    }\n",
              "</style>\n",
              "<table border=\"1\" class=\"dataframe\">\n",
              "  <thead>\n",
              "    <tr style=\"text-align: right;\">\n",
              "      <th></th>\n",
              "      <th>StudentID</th>\n",
              "      <th>Name</th>\n",
              "      <th>MathScore</th>\n",
              "      <th>ScienceScore</th>\n",
              "      <th>EnglishScore</th>\n",
              "    </tr>\n",
              "  </thead>\n",
              "  <tbody>\n",
              "    <tr>\n",
              "      <th>0</th>\n",
              "      <td>1</td>\n",
              "      <td>Alice</td>\n",
              "      <td>85.0</td>\n",
              "      <td>90.0</td>\n",
              "      <td>82.0</td>\n",
              "    </tr>\n",
              "    <tr>\n",
              "      <th>1</th>\n",
              "      <td>2</td>\n",
              "      <td>Bob</td>\n",
              "      <td>78.0</td>\n",
              "      <td>85.0</td>\n",
              "      <td>88.0</td>\n",
              "    </tr>\n",
              "    <tr>\n",
              "      <th>2</th>\n",
              "      <td>3</td>\n",
              "      <td>Charlie</td>\n",
              "      <td>92.0</td>\n",
              "      <td>NaN</td>\n",
              "      <td>79.0</td>\n",
              "    </tr>\n",
              "    <tr>\n",
              "      <th>3</th>\n",
              "      <td>4</td>\n",
              "      <td>David</td>\n",
              "      <td>88.0</td>\n",
              "      <td>91.0</td>\n",
              "      <td>NaN</td>\n",
              "    </tr>\n",
              "    <tr>\n",
              "      <th>4</th>\n",
              "      <td>5</td>\n",
              "      <td>Eva</td>\n",
              "      <td>NaN</td>\n",
              "      <td>75.0</td>\n",
              "      <td>92.0</td>\n",
              "    </tr>\n",
              "    <tr>\n",
              "      <th>5</th>\n",
              "      <td>6</td>\n",
              "      <td>Frank</td>\n",
              "      <td>76.0</td>\n",
              "      <td>80.0</td>\n",
              "      <td>85.0</td>\n",
              "    </tr>\n",
              "    <tr>\n",
              "      <th>6</th>\n",
              "      <td>7</td>\n",
              "      <td>Grace</td>\n",
              "      <td>94.0</td>\n",
              "      <td>95.0</td>\n",
              "      <td>91.0</td>\n",
              "    </tr>\n",
              "    <tr>\n",
              "      <th>7</th>\n",
              "      <td>8</td>\n",
              "      <td>Helen</td>\n",
              "      <td>67.0</td>\n",
              "      <td>68.0</td>\n",
              "      <td>72.0</td>\n",
              "    </tr>\n",
              "    <tr>\n",
              "      <th>8</th>\n",
              "      <td>9</td>\n",
              "      <td>Ivy</td>\n",
              "      <td>80.0</td>\n",
              "      <td>NaN</td>\n",
              "      <td>80.0</td>\n",
              "    </tr>\n",
              "    <tr>\n",
              "      <th>9</th>\n",
              "      <td>10</td>\n",
              "      <td>Jack</td>\n",
              "      <td>105.0</td>\n",
              "      <td>110.0</td>\n",
              "      <td>93.0</td>\n",
              "    </tr>\n",
              "  </tbody>\n",
              "</table>\n",
              "</div>\n",
              "    <div class=\"colab-df-buttons\">\n",
              "\n",
              "  <div class=\"colab-df-container\">\n",
              "    <button class=\"colab-df-convert\" onclick=\"convertToInteractive('df-b7f3071b-b634-4735-b0f0-63466b910ffa')\"\n",
              "            title=\"Convert this dataframe to an interactive table.\"\n",
              "            style=\"display:none;\">\n",
              "\n",
              "  <svg xmlns=\"http://www.w3.org/2000/svg\" height=\"24px\" viewBox=\"0 -960 960 960\">\n",
              "    <path d=\"M120-120v-720h720v720H120Zm60-500h600v-160H180v160Zm220 220h160v-160H400v160Zm0 220h160v-160H400v160ZM180-400h160v-160H180v160Zm440 0h160v-160H620v160ZM180-180h160v-160H180v160Zm440 0h160v-160H620v160Z\"/>\n",
              "  </svg>\n",
              "    </button>\n",
              "\n",
              "  <style>\n",
              "    .colab-df-container {\n",
              "      display:flex;\n",
              "      gap: 12px;\n",
              "    }\n",
              "\n",
              "    .colab-df-convert {\n",
              "      background-color: #E8F0FE;\n",
              "      border: none;\n",
              "      border-radius: 50%;\n",
              "      cursor: pointer;\n",
              "      display: none;\n",
              "      fill: #1967D2;\n",
              "      height: 32px;\n",
              "      padding: 0 0 0 0;\n",
              "      width: 32px;\n",
              "    }\n",
              "\n",
              "    .colab-df-convert:hover {\n",
              "      background-color: #E2EBFA;\n",
              "      box-shadow: 0px 1px 2px rgba(60, 64, 67, 0.3), 0px 1px 3px 1px rgba(60, 64, 67, 0.15);\n",
              "      fill: #174EA6;\n",
              "    }\n",
              "\n",
              "    .colab-df-buttons div {\n",
              "      margin-bottom: 4px;\n",
              "    }\n",
              "\n",
              "    [theme=dark] .colab-df-convert {\n",
              "      background-color: #3B4455;\n",
              "      fill: #D2E3FC;\n",
              "    }\n",
              "\n",
              "    [theme=dark] .colab-df-convert:hover {\n",
              "      background-color: #434B5C;\n",
              "      box-shadow: 0px 1px 3px 1px rgba(0, 0, 0, 0.15);\n",
              "      filter: drop-shadow(0px 1px 2px rgba(0, 0, 0, 0.3));\n",
              "      fill: #FFFFFF;\n",
              "    }\n",
              "  </style>\n",
              "\n",
              "    <script>\n",
              "      const buttonEl =\n",
              "        document.querySelector('#df-b7f3071b-b634-4735-b0f0-63466b910ffa button.colab-df-convert');\n",
              "      buttonEl.style.display =\n",
              "        google.colab.kernel.accessAllowed ? 'block' : 'none';\n",
              "\n",
              "      async function convertToInteractive(key) {\n",
              "        const element = document.querySelector('#df-b7f3071b-b634-4735-b0f0-63466b910ffa');\n",
              "        const dataTable =\n",
              "          await google.colab.kernel.invokeFunction('convertToInteractive',\n",
              "                                                    [key], {});\n",
              "        if (!dataTable) return;\n",
              "\n",
              "        const docLinkHtml = 'Like what you see? Visit the ' +\n",
              "          '<a target=\"_blank\" href=https://colab.research.google.com/notebooks/data_table.ipynb>data table notebook</a>'\n",
              "          + ' to learn more about interactive tables.';\n",
              "        element.innerHTML = '';\n",
              "        dataTable['output_type'] = 'display_data';\n",
              "        await google.colab.output.renderOutput(dataTable, element);\n",
              "        const docLink = document.createElement('div');\n",
              "        docLink.innerHTML = docLinkHtml;\n",
              "        element.appendChild(docLink);\n",
              "      }\n",
              "    </script>\n",
              "  </div>\n",
              "\n",
              "\n",
              "<div id=\"df-2ad46431-fa14-43b5-9a31-6088f8a4c14f\">\n",
              "  <button class=\"colab-df-quickchart\" onclick=\"quickchart('df-2ad46431-fa14-43b5-9a31-6088f8a4c14f')\"\n",
              "            title=\"Suggest charts\"\n",
              "            style=\"display:none;\">\n",
              "\n",
              "<svg xmlns=\"http://www.w3.org/2000/svg\" height=\"24px\"viewBox=\"0 0 24 24\"\n",
              "     width=\"24px\">\n",
              "    <g>\n",
              "        <path d=\"M19 3H5c-1.1 0-2 .9-2 2v14c0 1.1.9 2 2 2h14c1.1 0 2-.9 2-2V5c0-1.1-.9-2-2-2zM9 17H7v-7h2v7zm4 0h-2V7h2v10zm4 0h-2v-4h2v4z\"/>\n",
              "    </g>\n",
              "</svg>\n",
              "  </button>\n",
              "\n",
              "<style>\n",
              "  .colab-df-quickchart {\n",
              "      --bg-color: #E8F0FE;\n",
              "      --fill-color: #1967D2;\n",
              "      --hover-bg-color: #E2EBFA;\n",
              "      --hover-fill-color: #174EA6;\n",
              "      --disabled-fill-color: #AAA;\n",
              "      --disabled-bg-color: #DDD;\n",
              "  }\n",
              "\n",
              "  [theme=dark] .colab-df-quickchart {\n",
              "      --bg-color: #3B4455;\n",
              "      --fill-color: #D2E3FC;\n",
              "      --hover-bg-color: #434B5C;\n",
              "      --hover-fill-color: #FFFFFF;\n",
              "      --disabled-bg-color: #3B4455;\n",
              "      --disabled-fill-color: #666;\n",
              "  }\n",
              "\n",
              "  .colab-df-quickchart {\n",
              "    background-color: var(--bg-color);\n",
              "    border: none;\n",
              "    border-radius: 50%;\n",
              "    cursor: pointer;\n",
              "    display: none;\n",
              "    fill: var(--fill-color);\n",
              "    height: 32px;\n",
              "    padding: 0;\n",
              "    width: 32px;\n",
              "  }\n",
              "\n",
              "  .colab-df-quickchart:hover {\n",
              "    background-color: var(--hover-bg-color);\n",
              "    box-shadow: 0 1px 2px rgba(60, 64, 67, 0.3), 0 1px 3px 1px rgba(60, 64, 67, 0.15);\n",
              "    fill: var(--button-hover-fill-color);\n",
              "  }\n",
              "\n",
              "  .colab-df-quickchart-complete:disabled,\n",
              "  .colab-df-quickchart-complete:disabled:hover {\n",
              "    background-color: var(--disabled-bg-color);\n",
              "    fill: var(--disabled-fill-color);\n",
              "    box-shadow: none;\n",
              "  }\n",
              "\n",
              "  .colab-df-spinner {\n",
              "    border: 2px solid var(--fill-color);\n",
              "    border-color: transparent;\n",
              "    border-bottom-color: var(--fill-color);\n",
              "    animation:\n",
              "      spin 1s steps(1) infinite;\n",
              "  }\n",
              "\n",
              "  @keyframes spin {\n",
              "    0% {\n",
              "      border-color: transparent;\n",
              "      border-bottom-color: var(--fill-color);\n",
              "      border-left-color: var(--fill-color);\n",
              "    }\n",
              "    20% {\n",
              "      border-color: transparent;\n",
              "      border-left-color: var(--fill-color);\n",
              "      border-top-color: var(--fill-color);\n",
              "    }\n",
              "    30% {\n",
              "      border-color: transparent;\n",
              "      border-left-color: var(--fill-color);\n",
              "      border-top-color: var(--fill-color);\n",
              "      border-right-color: var(--fill-color);\n",
              "    }\n",
              "    40% {\n",
              "      border-color: transparent;\n",
              "      border-right-color: var(--fill-color);\n",
              "      border-top-color: var(--fill-color);\n",
              "    }\n",
              "    60% {\n",
              "      border-color: transparent;\n",
              "      border-right-color: var(--fill-color);\n",
              "    }\n",
              "    80% {\n",
              "      border-color: transparent;\n",
              "      border-right-color: var(--fill-color);\n",
              "      border-bottom-color: var(--fill-color);\n",
              "    }\n",
              "    90% {\n",
              "      border-color: transparent;\n",
              "      border-bottom-color: var(--fill-color);\n",
              "    }\n",
              "  }\n",
              "</style>\n",
              "\n",
              "  <script>\n",
              "    async function quickchart(key) {\n",
              "      const quickchartButtonEl =\n",
              "        document.querySelector('#' + key + ' button');\n",
              "      quickchartButtonEl.disabled = true;  // To prevent multiple clicks.\n",
              "      quickchartButtonEl.classList.add('colab-df-spinner');\n",
              "      try {\n",
              "        const charts = await google.colab.kernel.invokeFunction(\n",
              "            'suggestCharts', [key], {});\n",
              "      } catch (error) {\n",
              "        console.error('Error during call to suggestCharts:', error);\n",
              "      }\n",
              "      quickchartButtonEl.classList.remove('colab-df-spinner');\n",
              "      quickchartButtonEl.classList.add('colab-df-quickchart-complete');\n",
              "    }\n",
              "    (() => {\n",
              "      let quickchartButtonEl =\n",
              "        document.querySelector('#df-2ad46431-fa14-43b5-9a31-6088f8a4c14f button');\n",
              "      quickchartButtonEl.style.display =\n",
              "        google.colab.kernel.accessAllowed ? 'block' : 'none';\n",
              "    })();\n",
              "  </script>\n",
              "</div>\n",
              "\n",
              "  <div id=\"id_2ca2422e-e46a-4dcd-acb3-538da6876907\">\n",
              "    <style>\n",
              "      .colab-df-generate {\n",
              "        background-color: #E8F0FE;\n",
              "        border: none;\n",
              "        border-radius: 50%;\n",
              "        cursor: pointer;\n",
              "        display: none;\n",
              "        fill: #1967D2;\n",
              "        height: 32px;\n",
              "        padding: 0 0 0 0;\n",
              "        width: 32px;\n",
              "      }\n",
              "\n",
              "      .colab-df-generate:hover {\n",
              "        background-color: #E2EBFA;\n",
              "        box-shadow: 0px 1px 2px rgba(60, 64, 67, 0.3), 0px 1px 3px 1px rgba(60, 64, 67, 0.15);\n",
              "        fill: #174EA6;\n",
              "      }\n",
              "\n",
              "      [theme=dark] .colab-df-generate {\n",
              "        background-color: #3B4455;\n",
              "        fill: #D2E3FC;\n",
              "      }\n",
              "\n",
              "      [theme=dark] .colab-df-generate:hover {\n",
              "        background-color: #434B5C;\n",
              "        box-shadow: 0px 1px 3px 1px rgba(0, 0, 0, 0.15);\n",
              "        filter: drop-shadow(0px 1px 2px rgba(0, 0, 0, 0.3));\n",
              "        fill: #FFFFFF;\n",
              "      }\n",
              "    </style>\n",
              "    <button class=\"colab-df-generate\" onclick=\"generateWithVariable('df')\"\n",
              "            title=\"Generate code using this dataframe.\"\n",
              "            style=\"display:none;\">\n",
              "\n",
              "  <svg xmlns=\"http://www.w3.org/2000/svg\" height=\"24px\"viewBox=\"0 0 24 24\"\n",
              "       width=\"24px\">\n",
              "    <path d=\"M7,19H8.4L18.45,9,17,7.55,7,17.6ZM5,21V16.75L18.45,3.32a2,2,0,0,1,2.83,0l1.4,1.43a1.91,1.91,0,0,1,.58,1.4,1.91,1.91,0,0,1-.58,1.4L9.25,21ZM18.45,9,17,7.55Zm-12,3A5.31,5.31,0,0,0,4.9,8.1,5.31,5.31,0,0,0,1,6.5,5.31,5.31,0,0,0,4.9,4.9,5.31,5.31,0,0,0,6.5,1,5.31,5.31,0,0,0,8.1,4.9,5.31,5.31,0,0,0,12,6.5,5.46,5.46,0,0,0,6.5,12Z\"/>\n",
              "  </svg>\n",
              "    </button>\n",
              "    <script>\n",
              "      (() => {\n",
              "      const buttonEl =\n",
              "        document.querySelector('#id_2ca2422e-e46a-4dcd-acb3-538da6876907 button.colab-df-generate');\n",
              "      buttonEl.style.display =\n",
              "        google.colab.kernel.accessAllowed ? 'block' : 'none';\n",
              "\n",
              "      buttonEl.onclick = () => {\n",
              "        google.colab.notebook.generateWithVariable('df');\n",
              "      }\n",
              "      })();\n",
              "    </script>\n",
              "  </div>\n",
              "\n",
              "    </div>\n",
              "  </div>\n"
            ],
            "application/vnd.google.colaboratory.intrinsic+json": {
              "type": "dataframe",
              "variable_name": "df",
              "summary": "{\n  \"name\": \"df\",\n  \"rows\": 10,\n  \"fields\": [\n    {\n      \"column\": \"StudentID\",\n      \"properties\": {\n        \"dtype\": \"number\",\n        \"std\": 3,\n        \"min\": 1,\n        \"max\": 10,\n        \"num_unique_values\": 10,\n        \"samples\": [\n          9,\n          2,\n          6\n        ],\n        \"semantic_type\": \"\",\n        \"description\": \"\"\n      }\n    },\n    {\n      \"column\": \"Name\",\n      \"properties\": {\n        \"dtype\": \"string\",\n        \"num_unique_values\": 10,\n        \"samples\": [\n          \"Ivy\",\n          \"Bob\",\n          \"Frank\"\n        ],\n        \"semantic_type\": \"\",\n        \"description\": \"\"\n      }\n    },\n    {\n      \"column\": \"MathScore\",\n      \"properties\": {\n        \"dtype\": \"number\",\n        \"std\": 11.280514172678478,\n        \"min\": 67.0,\n        \"max\": 105.0,\n        \"num_unique_values\": 9,\n        \"samples\": [\n          80.0,\n          78.0,\n          94.0\n        ],\n        \"semantic_type\": \"\",\n        \"description\": \"\"\n      }\n    },\n    {\n      \"column\": \"ScienceScore\",\n      \"properties\": {\n        \"dtype\": \"number\",\n        \"std\": 12.958725686909629,\n        \"min\": 68.0,\n        \"max\": 110.0,\n        \"num_unique_values\": 8,\n        \"samples\": [\n          85.0,\n          95.0,\n          90.0\n        ],\n        \"semantic_type\": \"\",\n        \"description\": \"\"\n      }\n    },\n    {\n      \"column\": \"EnglishScore\",\n      \"properties\": {\n        \"dtype\": \"number\",\n        \"std\": 7.035623639735144,\n        \"min\": 72.0,\n        \"max\": 93.0,\n        \"num_unique_values\": 9,\n        \"samples\": [\n          80.0,\n          88.0,\n          91.0\n        ],\n        \"semantic_type\": \"\",\n        \"description\": \"\"\n      }\n    }\n  ]\n}"
            }
          },
          "metadata": {},
          "execution_count": 5
        }
      ]
    },
    {
      "cell_type": "markdown",
      "source": [
        "# Cleaning our data\n",
        "\n",
        "Now, let’s handle missing values, remove errors, and organize the data.\n",
        "\n",
        "- Replace missing values (NaN) with the mean score of that subject.\n",
        "- Correct invalid values, e.g., any score over 100 will be capped at 100."
      ],
      "metadata": {
        "id": "Qboev-0MJLbs"
      }
    },
    {
      "cell_type": "code",
      "source": [
        "# Fill missing values with the mean score for each subject\n",
        "df['MathScore'] = df['MathScore'].fillna(df['MathScore'].mean()).round(1)\n",
        "df['ScienceScore'] = df['ScienceScore'].fillna(df['ScienceScore'].mean()).round(1)\n",
        "df['EnglishScore'] = df['EnglishScore'].fillna(df['EnglishScore'].mean()).round(1)\n",
        "\n",
        "\n",
        "# Correct invalid scores (e.g., scores > 100)\n",
        "df['MathScore'] = df['MathScore'].apply(lambda x: min(x, 100)).round(1)\n",
        "df['ScienceScore'] = df['ScienceScore'].apply(lambda x: min(x, 100)).round(1)\n",
        "df['EnglishScore'] = df['EnglishScore'].apply(lambda x: min(x, 100)).round(1)\n",
        "\n",
        "# Show the cleaned data\n",
        "print(\"\\nCleaned Data: \\n\")\n",
        "print(df)"
      ],
      "metadata": {
        "colab": {
          "base_uri": "https://localhost:8080/"
        },
        "id": "U4Zd6M4bDMCl",
        "outputId": "c7881ff0-f5dc-4ed9-f6f4-147020dcf41c"
      },
      "execution_count": null,
      "outputs": [
        {
          "output_type": "stream",
          "name": "stdout",
          "text": [
            "\n",
            "Cleaned Data: \n",
            "\n",
            "   StudentID     Name  MathScore  ScienceScore  EnglishScore\n",
            "0          1    Alice       85.0          90.0          82.0\n",
            "1          2      Bob       78.0          85.0          88.0\n",
            "2          3  Charlie       92.0          86.8          79.0\n",
            "3          4    David       88.0          91.0          84.7\n",
            "4          5      Eva       85.0          75.0          92.0\n",
            "5          6    Frank       76.0          80.0          85.0\n",
            "6          7    Grace       94.0          95.0          91.0\n",
            "7          8    Helen       67.0          68.0          72.0\n",
            "8          9      Ivy       80.0          86.8          80.0\n",
            "9         10     Jack      100.0         100.0          93.0\n"
          ]
        }
      ]
    },
    {
      "cell_type": "markdown",
      "source": [
        "# Data Exploration\n",
        "- Let’s explore the data using summary statistics and visualizations."
      ],
      "metadata": {
        "id": "v_fFRQGmJdLG"
      }
    },
    {
      "cell_type": "code",
      "source": [
        "# Summary statistics\n",
        "print(\"\\nSummary Statistics: \\n\")\n",
        "print(df.describe().round(1), '\\n')\n",
        "\n",
        "# Visualizing the scores\n",
        "plt.figure(figsize=(10, 3))\n",
        "\n",
        "# Plot Math Scores\n",
        "plt.subplot(1, 3, 1)\n",
        "plt.bar(df['Name'], df['MathScore'], color='lightblue')\n",
        "plt.title('Math Scores')\n",
        "plt.xticks(rotation=45)\n",
        "\n",
        "# Plot Science Scores\n",
        "plt.subplot(1, 3, 2)\n",
        "plt.bar(df['Name'], df['ScienceScore'], color='lightgreen')\n",
        "plt.title('Science Scores')\n",
        "plt.xticks(rotation=45)\n",
        "\n",
        "# Plot English Scores\n",
        "plt.subplot(1, 3, 3)\n",
        "plt.bar(df['Name'], df['EnglishScore'], color='lightcoral')\n",
        "plt.title('English Scores')\n",
        "plt.xticks(rotation=45)\n",
        "\n",
        "plt.tight_layout()\n",
        "plt.show()\n"
      ],
      "metadata": {
        "colab": {
          "base_uri": "https://localhost:8080/",
          "height": 533
        },
        "id": "Sx2nLguQDwS1",
        "outputId": "2eaf3840-4e15-41d9-bc9b-ef7a34df74a3"
      },
      "execution_count": null,
      "outputs": [
        {
          "output_type": "stream",
          "name": "stdout",
          "text": [
            "\n",
            "Summary Statistics: \n",
            "\n",
            "       StudentID  MathScore  ScienceScore  EnglishScore\n",
            "count       10.0       10.0          10.0          10.0\n",
            "mean         5.5       84.5          85.8          84.7\n",
            "std          3.0        9.7           9.4           6.6\n",
            "min          1.0       67.0          68.0          72.0\n",
            "25%          3.2       78.5          81.2          80.5\n",
            "50%          5.5       85.0          86.8          84.8\n",
            "75%          7.8       91.0          90.8          90.2\n",
            "max         10.0      100.0         100.0          93.0 \n",
            "\n"
          ]
        },
        {
          "output_type": "display_data",
          "data": {
            "text/plain": [
              "<Figure size 1000x300 with 3 Axes>"
            ],
            "image/png": "[encoded data removed]"
          },
          "metadata": {}
        }
      ]
    },
    {
      "cell_type": "markdown",
      "source": [
        "# Data Analysis\n",
        "- Who is the top student?\n",
        "\n",
        "Let’s apply some basic analysis, like calculating the total score per student and determining which student has the highest score."
      ],
      "metadata": {
        "id": "-wjsXjBbJud9"
      }
    },
    {
      "cell_type": "code",
      "source": [
        "# Add a total score column\n",
        "df['TotalScore'] = df['MathScore'] + df['ScienceScore'] + df['EnglishScore']\n",
        "\n",
        "# Find the student with the highest total score\n",
        "top_student = df.loc[df['TotalScore'].idxmax()]\n",
        "\n",
        "print(\"\\nTop Student:\\n\")\n",
        "print(top_student, '\\n')\n",
        "\n",
        "# Plot Total Scores\n",
        "plt.figure(figsize=(8, 3))\n",
        "plt.bar(df['Name'], df['TotalScore'], color='purple')\n",
        "plt.title('Total Scores')\n",
        "plt.xticks(rotation=45)\n",
        "plt.show()\n"
      ],
      "metadata": {
        "colab": {
          "base_uri": "https://localhost:8080/",
          "height": 535
        },
        "id": "QQwOFol-EbQ8",
        "outputId": "e5b215f4-0d56-48e3-b082-7c21b32395fb"
      },
      "execution_count": null,
      "outputs": [
        {
          "output_type": "stream",
          "name": "stdout",
          "text": [
            "\n",
            "Top Student:\n",
            "\n",
            "StudentID          10\n",
            "Name             Jack\n",
            "MathScore       100.0\n",
            "ScienceScore    100.0\n",
            "EnglishScore     93.0\n",
            "TotalScore      293.0\n",
            "Name: 9, dtype: object \n",
            "\n"
          ]
        },
        {
          "output_type": "display_data",
          "data": {
            "text/plain": [
              "<Figure size 800x300 with 1 Axes>"
            ],
            "image/png": "[encoded data removed]"
          },
          "metadata": {}
        }
      ]
    },
    {
      "cell_type": "markdown",
      "source": [
        "# plot Improvements for later"
      ],
      "metadata": {
        "id": "59PQhxF9KqYH"
      }
    },
    {
      "cell_type": "code",
      "source": [
        "def top_student_plot(df):\n",
        "    top_index = df['TotalScore'].idxmax()\n",
        "    # Create a list of colors, setting the top student's color to purple\n",
        "    colors = ['purple' if i == top_index else 'grey' for i in range(len(df))]\n",
        "\n",
        "    # Plot the bar chart\n",
        "    plt.figure(figsize=(8, 3))\n",
        "    plt.bar(df['Name'], df['TotalScore'], color=colors)\n",
        "    plt.title('Total Scores')\n",
        "    plt.xticks(rotation=45)\n",
        "    plt.show()"
      ],
      "metadata": {
        "id": "WwZkddNMGP2T"
      },
      "execution_count": null,
      "outputs": []
    },
    {
      "cell_type": "markdown",
      "source": [
        "# Reporting\n",
        "Now that we have cleaned, explored, and analyzed the data, we can generate a simple report with the results, including the visualization:"
      ],
      "metadata": {
        "id": "nSAAhmgFKw8L"
      }
    },
    {
      "cell_type": "code",
      "source": [
        "# Simple report\n",
        "report = f\"\"\"\n",
        "Data Report:\n",
        "-------------\n",
        "1. Summary Statistics: \\n\n",
        "{df.describe().round(1)}\n",
        "\n",
        "2. Top Student: \\n\n",
        "{top_student}\n",
        "\n",
        "3. Visualizations:\n",
        "- Bar chart of total scores for all students.\n",
        "\"\"\"\n",
        "# Print the report\n",
        "print(report)\n",
        "top_student_plot(df)\n"
      ],
      "metadata": {
        "colab": {
          "base_uri": "https://localhost:8080/",
          "height": 830
        },
        "id": "n4CiLEBwEz_J",
        "outputId": "ff3bea5a-e2e4-49d1-badb-73216aad498c"
      },
      "execution_count": null,
      "outputs": [
        {
          "output_type": "stream",
          "name": "stdout",
          "text": [
            "\n",
            "Data Report:\n",
            "-------------\n",
            "1. Summary Statistics: \n",
            "\n",
            "       StudentID  MathScore  ScienceScore  EnglishScore  TotalScore\n",
            "count       10.0       10.0          10.0          10.0        10.0\n",
            "mean         5.5       84.5          85.8          84.7       254.9\n",
            "std          3.0        9.7           9.4           6.6        23.0\n",
            "min          1.0       67.0          68.0          72.0       207.0\n",
            "25%          3.2       78.5          81.2          80.5       247.8\n",
            "50%          5.5       85.0          86.8          84.8       254.5\n",
            "75%          7.8       91.0          90.8          90.2       262.2\n",
            "max         10.0      100.0         100.0          93.0       293.0\n",
            "\n",
            "2. Top Student: \n",
            "\n",
            "StudentID          10\n",
            "Name             Jack\n",
            "MathScore       100.0\n",
            "ScienceScore    100.0\n",
            "EnglishScore     93.0\n",
            "TotalScore      293.0\n",
            "Name: 9, dtype: object\n",
            "\n",
            "3. Visualizations:\n",
            "- Bar chart of total scores for all students.\n",
            "\n"
          ]
        },
        {
          "output_type": "display_data",
          "data": {
            "text/plain": [
              "<Figure size 800x300 with 1 Axes>"
            ],
            "image/png": "[encoded data removed]"
          },
          "metadata": {}
        }
      ]
    },
    {
      "cell_type": "markdown",
      "source": [
        "# If Summary Statistics are new:\n",
        "\n",
        "To understand the summary statistics of this dataset, here’s a breakdown of what each value means for each subject (Math, Science, English) and the TotalScore:\n",
        "\n",
        "1. **Count:**\n",
        "- This represents the total number of students in the dataset. In this case, there are 10 students for each subject, and the total score is calculated for all 10 students.\n",
        "\n",
        "2. **Mean (Average Score):**\n",
        "- MathScore: The average score across all students in Math is 5.5.\n",
        "- ScienceScore: The average score in Science is 84.5.\n",
        "- EnglishScore: The average score in English is 85.8.\n",
        "- TotalScore: The average total score across all students is 254.9 (sum of Math, Science, and English scores).\n",
        "\n",
        "3. **Standard Deviation (std):**\n",
        "- This measures how spread out the scores are from the mean. A higher standard deviation means the scores vary more from the average.\n",
        "- MathScore: The standard deviation is 3.0, meaning there’s a moderate variation in Math scores.\n",
        "- ScienceScore: The standard deviation is 9.7, meaning Science scores are more spread out compared to Math.\n",
        "- EnglishScore: The standard deviation is 9.4, similar to Science, indicating more variation in English scores.\n",
        "- TotalScore: The standard deviation for total scores is 23.0, indicating a moderate spread of total scores across students.\n",
        "\n",
        "4. **Min (Minimum Score):**\n",
        "- MathScore: The lowest score in Math is 1.0, showing that at least one student scored very low in Math.\n",
        "- ScienceScore: The lowest Science score is 67.0.\n",
        "- EnglishScore: The lowest English score is 72.0.\n",
        "- TotalScore: The lowest total score across all subjects is 207.0.\n",
        "\n",
        "5. **25% (1st Quartile):**\n",
        "- This value shows the score below which 25% of the students fall.\n",
        "- MathScore: 25% of students scored less than 3.2 in Math.\n",
        "- ScienceScore: 25% of students scored less than 78.5 in Science.\n",
        "- EnglishScore: 25% of students scored less than 80.5 in English.\n",
        "- TotalScore: 25% of students scored less than 247.8 in total.\n",
        "\n",
        "6. **50% (Median):**\n",
        "- This is the middle score, meaning 50% of students scored below this and 50% scored above this.\n",
        "- MathScore: The median Math score is 5.5, indicating that half of the students scored less than 5.5 and half scored more.\n",
        "- ScienceScore: The median Science score is 85.0.\n",
        "- EnglishScore: The median English score is 86.8.\n",
        "- TotalScore: The median total score is 254.5.\n",
        "\n",
        "7. **75% (3rd Quartile):**\n",
        "- This value shows the score below which 75% of the students fall.\n",
        "- MathScore: 75% of students scored below 7.8 in Math.\n",
        "- ScienceScore: 75% of students scored below 91.0 in Science.\n",
        "- EnglishScore: 75% of students scored below 90.8 in English.\n",
        "- TotalScore: 75% of students scored below 262.2 in total.\n",
        "\n",
        "8. **Max (Maximum Score):**\n",
        "- MathScore: The highest Math score is 10.0.\n",
        "- ScienceScore: The highest Science score is 100.0.\n",
        "- EnglishScore: The highest English score is 93.0.\n",
        "- TotalScore: The highest total score across all students is 293.0.\n",
        "\n",
        "\n",
        "**Key Insights:**\n",
        "- Math scores vary quite a bit, with a low of 1 and a high of 10. The average score is fairly low at 5.5, indicating room for improvement.\n",
        "- Science and English scores are generally higher, with more students scoring closer to the maximum (especially in Science, with a max of 100).\n",
        "- TotalScore: The combined total score is higher overall, but still shows that there are students who perform much lower than others, and the highest score is quite a bit higher than the lowest score (207 to 293).\n",
        "\n",
        "\n",
        "**Visualizations:**\n",
        "- A box plot would show the distribution of scores, including the minimum, maximum, quartiles, and median.\n",
        "- A bar chart could highlight the difference between the top and bottom scores in each subject.\n",
        "- This breakdown helps see the range and spread of scores, the central tendency (mean and median), and how varied the students’ performance is across different subjects."
      ],
      "metadata": {
        "id": "eD3NqfwpLcb5"
      }
    },
    {
      "cell_type": "code",
      "source": [
        "# 1. Box plot for distribution of scores\n",
        "plt.figure(figsize=(10, 4))\n",
        "sns.boxplot(data=df[['MathScore', 'ScienceScore', 'EnglishScore']])\n",
        "plt.title('Score Distribution by Subject')\n",
        "plt.ylabel('Scores')\n",
        "plt.xticks([0, 1, 2], ['Math', 'Science', 'English'])\n",
        "plt.show()\n",
        "\n",
        "# 2. Bar chart to highlight the difference between the top and bottom scores in each subject\n",
        "subject_means = df[['MathScore', 'ScienceScore', 'EnglishScore']].mean()\n",
        "subject_mins = df[['MathScore', 'ScienceScore', 'EnglishScore']].min()\n",
        "subject_maxs = df[['MathScore', 'ScienceScore', 'EnglishScore']].max()\n",
        "\n",
        "# Prepare the data for plotting\n",
        "subject_stats = pd.DataFrame({\n",
        "    'Mean': subject_means,\n",
        "    'Min': subject_mins,\n",
        "    'Max': subject_maxs\n",
        "})\n",
        "\n",
        "subject_stats.plot(kind='bar', figsize=(10, 3))\n",
        "plt.title('Top and Bottom Scores in Each Subject')\n",
        "plt.ylabel('Scores')\n",
        "plt.xticks(rotation=0)\n",
        "plt.show()"
      ],
      "metadata": {
        "colab": {
          "base_uri": "https://localhost:8080/",
          "height": 688
        },
        "id": "dDCo2R2hNoUp",
        "outputId": "e5581386-2a75-4993-c023-f45e08fc303d"
      },
      "execution_count": null,
      "outputs": [
        {
          "output_type": "display_data",
          "data": {
            "text/plain": [
              "<Figure size 1000x400 with 1 Axes>"
            ],
            "image/png": "[encoded data removed]"
          },
          "metadata": {}
        },
        {
          "output_type": "display_data",
          "data": {
            "text/plain": [
              "<Figure size 1000x300 with 1 Axes>"
            ],
            "image/png": "[encoded data removed]"
          },
          "metadata": {}
        }
      ]
    }
  ]
}